{
 "cells": [
  {
   "cell_type": "markdown",
   "id": "5adbda40-4066-4a0f-8b25-0c26ff2d0016",
   "metadata": {},
   "source": [
    "# day13"
   ]
  },
  {
   "cell_type": "markdown",
   "id": "7ecf1f30-0188-4a74-8490-e5ee8e2af029",
   "metadata": {},
   "source": [
    "#### Pay Your Tax\n",
    "Write a function called your_vat. The function has no \n",
    "parameters. The function asks the user to input the price of an \n",
    "item and VAT (VAT should be a percentage). The function should \n",
    "return the price of the item plus VAT. If the price is 220 and the\n",
    "VAT is 15%, your code should return a VAT-inclusive price of 253. \n",
    "Check to see if your code can handle ValueError and negative \n",
    "inputs from the user. Ensure the code runs until valid numbers \n",
    "are entered. (Hint: Your code should include a while loop.)\n",
    "\n",
    "\n"
   ]
  },
  {
   "cell_type": "code",
   "execution_count": 1,
   "id": "1bebc012-99c8-4b77-8d3e-6ebd37aae4c5",
   "metadata": {},
   "outputs": [],
   "source": [
    "def your_vat():\n",
    "    while True:\n",
    "        try:\n",
    "            price = int(input(\"enter price of item: \"))\n",
    "            vat = int(input(\"enter vat in %:\"))\n",
    "            if price > 0 and vat > 0:\n",
    "                total_price = (vat/100) * price\n",
    "                return total_price\n",
    "            else:\n",
    "                print(\"enter non -ve values\")\n",
    "        except ValueError:\n",
    "            print(\"please enter valid number\")\n",
    "            \n",
    "            "
   ]
  },
  {
   "cell_type": "code",
   "execution_count": 2,
   "id": "73e98ca8-6722-4369-a04d-8da5c55cd57b",
   "metadata": {},
   "outputs": [
    {
     "name": "stdin",
     "output_type": "stream",
     "text": [
      "enter price of item:  200\n",
      "enter vat in %: 12\n"
     ]
    },
    {
     "data": {
      "text/plain": [
       "24.0"
      ]
     },
     "execution_count": 2,
     "metadata": {},
     "output_type": "execute_result"
    }
   ],
   "source": [
    "your_vat()"
   ]
  },
  {
   "cell_type": "markdown",
   "id": "8d58d398-80eb-4f9b-abf9-94f8f50125e5",
   "metadata": {},
   "source": [
    "####  Pyramid of Snakes\n",
    "Write a function called python_snakes that takes a number as \n",
    "an argument and creates the pyramid shape using the number’s \n",
    "range. (Hint: Use the loops and emoji libraries for snake emojis.) \n",
    "If you pass 7 as an argument, your code should print the \n",
    "following:\n"
   ]
  },
  {
   "cell_type": "code",
   "execution_count": 5,
   "id": "4db79cb8-2381-4d91-92f9-1d234d0a732c",
   "metadata": {},
   "outputs": [],
   "source": [
    "import emoji"
   ]
  },
  {
   "cell_type": "code",
   "execution_count": 174,
   "id": "c26c4a4d-fb43-44de-8bf5-b62ce89912b4",
   "metadata": {},
   "outputs": [],
   "source": [
    "def python_snakes(num):\n",
    "    k = \"\"\n",
    "    for i in range(num):\n",
    "        for j in range(num,i,-1):\n",
    "            print(end = \" \")\n",
    "        for k in range(i+1):\n",
    "            print(emoji.emojize(\":snake:\"),end = \" \")\n",
    "\n",
    "        print(\"\\n\") \n",
    "\n"
   ]
  },
  {
   "cell_type": "code",
   "execution_count": 175,
   "id": "83a2a2ba-d3d7-45e3-86e1-9556e1970f04",
   "metadata": {},
   "outputs": [
    {
     "name": "stdout",
     "output_type": "stream",
     "text": [
      "       🐍 \n",
      "\n",
      "      🐍 🐍 \n",
      "\n",
      "     🐍 🐍 🐍 \n",
      "\n",
      "    🐍 🐍 🐍 🐍 \n",
      "\n",
      "   🐍 🐍 🐍 🐍 🐍 \n",
      "\n",
      "  🐍 🐍 🐍 🐍 🐍 🐍 \n",
      "\n",
      " 🐍 🐍 🐍 🐍 🐍 🐍 🐍 \n",
      "\n"
     ]
    }
   ],
   "source": [
    "python_snakes(7)"
   ]
  }
 ],
 "metadata": {
  "kernelspec": {
   "display_name": "Python 3 (ipykernel)",
   "language": "python",
   "name": "python3"
  },
  "language_info": {
   "codemirror_mode": {
    "name": "ipython",
    "version": 3
   },
   "file_extension": ".py",
   "mimetype": "text/x-python",
   "name": "python",
   "nbconvert_exporter": "python",
   "pygments_lexer": "ipython3",
   "version": "3.11.8"
  }
 },
 "nbformat": 4,
 "nbformat_minor": 5
}
