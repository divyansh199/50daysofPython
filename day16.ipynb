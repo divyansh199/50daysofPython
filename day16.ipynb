{
 "cells": [
  {
   "cell_type": "markdown",
   "id": "4c40c998-4fab-4064-8cdc-2282d70a9a70",
   "metadata": {},
   "source": [
    "# Day16"
   ]
  },
  {
   "cell_type": "markdown",
   "id": "47e9b939-e31d-4eac-9e49-09832fca1c35",
   "metadata": {},
   "source": [
    "#### Sum the List\n",
    "Write a function called sum_list with one parameter that takes a \n",
    "nested list of integers as an argument and returns the sum of the \n",
    "integers. For example, if you pass [[2, 4, 5, 6], [2, 3, 5, 6]] as an \n",
    "argument, your function should return a sum of 33."
   ]
  },
  {
   "cell_type": "code",
   "execution_count": 3,
   "id": "db675235-9384-40e6-9a2c-e6f7ab0818c3",
   "metadata": {},
   "outputs": [],
   "source": [
    "li =  [[2, 4, 5, 6], [2, 3, 5, 6]] "
   ]
  },
  {
   "cell_type": "code",
   "execution_count": 4,
   "id": "389c056f-9514-4739-8ec0-8e04f9d830ed",
   "metadata": {},
   "outputs": [],
   "source": [
    "def sum_list(li):\n",
    "    x = [first for second in li for first in second ]\n",
    "    return sum(x)"
   ]
  },
  {
   "cell_type": "code",
   "execution_count": 5,
   "id": "bafc612d-4a4a-4261-a15c-402d7a87c269",
   "metadata": {},
   "outputs": [
    {
     "data": {
      "text/plain": [
       "33"
      ]
     },
     "execution_count": 5,
     "metadata": {},
     "output_type": "execute_result"
    }
   ],
   "source": [
    "sum_list(li)"
   ]
  },
  {
   "cell_type": "markdown",
   "id": "25672f7a-2509-4788-baff-c26cd994fca1",
   "metadata": {},
   "source": [
    "#### Extra Challenge: Unpack A Nest\n",
    "nested_list = [[12, 34, 56, 67], [34, 68, 78]]\n",
    "Write a code that generates a list of the following numbers from \n",
    "the nested list above: 34, 67, 78. Your output should be another \n",
    "list: [34, 67, 78]. The list output should not have duplicates.\n"
   ]
  },
  {
   "cell_type": "code",
   "execution_count": 17,
   "id": "ead44dde-33ec-45ed-a4b0-83b88434e326",
   "metadata": {},
   "outputs": [],
   "source": [
    "li =  [[12, 34, 56, 67], [34, 68, 78]]\n",
    "\n",
    "x = [second for first in li for second in first for second in [34,67,78]]"
   ]
  },
  {
   "cell_type": "code",
   "execution_count": 18,
   "id": "444ea65f-24fe-46f4-a3e7-79d40c8d2e19",
   "metadata": {},
   "outputs": [
    {
     "data": {
      "text/plain": [
       "[34, 67, 78]"
      ]
     },
     "execution_count": 18,
     "metadata": {},
     "output_type": "execute_result"
    }
   ],
   "source": [
    "list(set(x))"
   ]
  },
  {
   "cell_type": "code",
   "execution_count": 30,
   "id": "cb640558-5e40-4966-b15f-66989a02503e",
   "metadata": {},
   "outputs": [],
   "source": []
  },
  {
   "cell_type": "code",
   "execution_count": null,
   "id": "3d04972e-6103-4f07-b8ea-b4a2d130d8bf",
   "metadata": {},
   "outputs": [],
   "source": []
  },
  {
   "cell_type": "code",
   "execution_count": null,
   "id": "64eeeeb6-4248-4a88-b33f-e66f2ee0f9f3",
   "metadata": {},
   "outputs": [],
   "source": []
  }
 ],
 "metadata": {
  "kernelspec": {
   "display_name": "Python 3 (ipykernel)",
   "language": "python",
   "name": "python3"
  },
  "language_info": {
   "codemirror_mode": {
    "name": "ipython",
    "version": 3
   },
   "file_extension": ".py",
   "mimetype": "text/x-python",
   "name": "python",
   "nbconvert_exporter": "python",
   "pygments_lexer": "ipython3",
   "version": "3.11.8"
  }
 },
 "nbformat": 4,
 "nbformat_minor": 5
}
