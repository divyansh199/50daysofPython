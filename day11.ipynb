{
 "cells": [
  {
   "cell_type": "markdown",
   "id": "ef77ea10-8bba-40c6-8c88-ad152d742ff9",
   "metadata": {},
   "source": [
    "# day 11"
   ]
  },
  {
   "cell_type": "markdown",
   "id": "569ecf55-fa87-4afc-8fa0-519164a53464",
   "metadata": {},
   "source": [
    "#### Are They Equal?\n",
    "Write a function called equal_strings. The function takes \n",
    "two strings as arguments and compares them. If the strings \n",
    "are equal (if they have the same characters and have equal \n",
    "length), it should return True; if they are not, it should \n",
    "return False. For example, \"love\" and \"evol\" should \n",
    "return True."
   ]
  },
  {
   "cell_type": "code",
   "execution_count": 13,
   "id": "449a336f-0280-4607-9a1f-2ab56d50473a",
   "metadata": {},
   "outputs": [],
   "source": [
    "def equal_strings(s1,s2):\n",
    "    s1 = sorted(s1)\n",
    "    s2 = sorted(s2)\n",
    "    if s1 == s2:\n",
    "        return True\n",
    "    else:\n",
    "        return False"
   ]
  },
  {
   "cell_type": "code",
   "execution_count": 15,
   "id": "55600c4e-ecbd-4f64-863f-24171e7a42f4",
   "metadata": {},
   "outputs": [
    {
     "data": {
      "text/plain": [
       "True"
      ]
     },
     "execution_count": 15,
     "metadata": {},
     "output_type": "execute_result"
    }
   ],
   "source": [
    "equal_strings(\"love\",\"evol\")"
   ]
  },
  {
   "cell_type": "markdown",
   "id": "e72bd55a-9bb3-4449-a354-0ee7801c29b5",
   "metadata": {},
   "source": [
    "#### Extra Challenge: Swap Values\n",
    "Write a function called swap_values. This function takes \n",
    "a list of numbers and swaps the first element with the last \n",
    "element. For example, if you pass [2, 4, 67, 7] as a \n",
    "parameter, your function should return.\n",
    "[7, 4, 67, 2]"
   ]
  },
  {
   "cell_type": "code",
   "execution_count": 17,
   "id": "b490ba51-36da-478a-afd2-3d8e813ba0b6",
   "metadata": {},
   "outputs": [],
   "source": [
    "def swap_values(li):\n",
    "    c = 0\n",
    "    c = li[0]\n",
    "    li[0] = li[-1]\n",
    "    li[-1] = c\n",
    "    return li"
   ]
  },
  {
   "cell_type": "code",
   "execution_count": 18,
   "id": "ba305a4d-38f3-4b04-a5b8-9b5aeefb7cb6",
   "metadata": {},
   "outputs": [
    {
     "data": {
      "text/plain": [
       "[7, 4, 67, 2]"
      ]
     },
     "execution_count": 18,
     "metadata": {},
     "output_type": "execute_result"
    }
   ],
   "source": [
    "swap_values([2,4,67,7])"
   ]
  },
  {
   "cell_type": "code",
   "execution_count": null,
   "id": "7548c19c-dc0d-4fd0-95e5-aaae7553ed0e",
   "metadata": {},
   "outputs": [],
   "source": []
  }
 ],
 "metadata": {
  "kernelspec": {
   "display_name": "Python 3 (ipykernel)",
   "language": "python",
   "name": "python3"
  },
  "language_info": {
   "codemirror_mode": {
    "name": "ipython",
    "version": 3
   },
   "file_extension": ".py",
   "mimetype": "text/x-python",
   "name": "python",
   "nbconvert_exporter": "python",
   "pygments_lexer": "ipython3",
   "version": "3.11.8"
  }
 },
 "nbformat": 4,
 "nbformat_minor": 5
}
