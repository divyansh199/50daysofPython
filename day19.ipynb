{
 "cells": [
  {
   "cell_type": "markdown",
   "id": "ae286ace-fd3b-4324-896c-af2e50b6fd26",
   "metadata": {},
   "source": [
    "# Day 19: Words and Elements\n",
    "#### Write two functions. \n",
    "The first function is called count_words\n",
    "which takes a string of words as argument and counts how many \n",
    "words are in the string. \n",
    "The second function, called count_elements takes a string of \n",
    "words and counts how many elements are in the string. Do not \n",
    "count the whitespaces. The first function will return the number of \n",
    "words in a string, and the second one will return the number of \n",
    "elements (less whitespace). If you pass \"I love learning,\" the \n",
    "count_words function should return 3 words and \n",
    "count_elements should return 13 elements"
   ]
  },
  {
   "cell_type": "code",
   "execution_count": 4,
   "id": "e0a7c71e-7c63-4478-8342-18ce16852234",
   "metadata": {},
   "outputs": [],
   "source": [
    "def count_words(a: str)->int:\n",
    "    li = a.split(\" \")\n",
    "    return len(li)\n",
    "def count_elements(a: str)->int:\n",
    "    li = a.replace(\" \",\"\")\n",
    "    return len(li)"
   ]
  },
  {
   "cell_type": "code",
   "execution_count": 5,
   "id": "5e8700d7-9c30-43f0-a8fb-1c729dd43a2c",
   "metadata": {},
   "outputs": [
    {
     "data": {
      "text/plain": [
       "3"
      ]
     },
     "execution_count": 5,
     "metadata": {},
     "output_type": "execute_result"
    }
   ],
   "source": [
    "count_words(\"I love learning\")"
   ]
  },
  {
   "cell_type": "code",
   "execution_count": 6,
   "id": "6201aeef-85d6-4450-ad97-d1f10bdcbe0a",
   "metadata": {},
   "outputs": [
    {
     "name": "stdout",
     "output_type": "stream",
     "text": [
      "Ilovelearning\n"
     ]
    },
    {
     "data": {
      "text/plain": [
       "13"
      ]
     },
     "execution_count": 6,
     "metadata": {},
     "output_type": "execute_result"
    }
   ],
   "source": [
    "count_elements(\"I love learning\")"
   ]
  },
  {
   "cell_type": "code",
   "execution_count": null,
   "id": "54db0d42-0d6a-4c1d-9b29-9d9b08b0ab4a",
   "metadata": {},
   "outputs": [],
   "source": []
  }
 ],
 "metadata": {
  "kernelspec": {
   "display_name": "Python 3 (ipykernel)",
   "language": "python",
   "name": "python3"
  },
  "language_info": {
   "codemirror_mode": {
    "name": "ipython",
    "version": 3
   },
   "file_extension": ".py",
   "mimetype": "text/x-python",
   "name": "python",
   "nbconvert_exporter": "python",
   "pygments_lexer": "ipython3",
   "version": "3.11.8"
  }
 },
 "nbformat": 4,
 "nbformat_minor": 5
}
