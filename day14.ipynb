{
 "cells": [
  {
   "cell_type": "markdown",
   "id": "a0a13c74-b286-40e6-b3cc-002cb0008c0d",
   "metadata": {},
   "source": [
    "# day14"
   ]
  },
  {
   "cell_type": "markdown",
   "id": "26465672-cd1b-46c7-a3db-d728a161cfd1",
   "metadata": {},
   "source": [
    "#### Flatten the List\n",
    "Write a function called flat_list that takes one argument, a nested \n",
    "list. The function converts the nested list into a one-dimensional \n",
    "list. For example, [[2, 4, 5, 6]] should return [2, 4, 5, 6]."
   ]
  },
  {
   "cell_type": "code",
   "execution_count": 2,
   "id": "be9a6de7-6f4d-4efe-9f9d-18a6a2803ab6",
   "metadata": {},
   "outputs": [],
   "source": [
    "li= [[2, 4, 5, 6]]\n",
    "k = [j for x in li for j in x]"
   ]
  },
  {
   "cell_type": "code",
   "execution_count": 3,
   "id": "d43bc577-aeda-4f5d-8f8d-f93c07f0c68f",
   "metadata": {},
   "outputs": [
    {
     "data": {
      "text/plain": [
       "[2, 4, 5, 6]"
      ]
     },
     "execution_count": 3,
     "metadata": {},
     "output_type": "execute_result"
    }
   ],
   "source": [
    "k"
   ]
  },
  {
   "cell_type": "markdown",
   "id": "b4237c21-91ca-420c-a60a-4cddc748e198",
   "metadata": {},
   "source": [
    "#### Teacher’s Salary\n",
    "A school has asked you to write a program that will calculate \n",
    "teachers' salaries. The program should ask the user to enter the \n",
    "teacher’s name, the number of periods taught in a month, and \n",
    "the rate per period. The monthly salary is calculated by \n",
    "multiplying the number of periods by the monthly rate. The \n",
    "current monthly rate per period is $20. If a teacher has more than \n",
    "100 periods in a month, everything above 100 is overtime. \n",
    "Overtime is 25 per period. For example, if a teacher has taught \n",
    "105 periods, their gross monthly salary should be 2,125. Write \n",
    "a function called \"your_salary\" that calculates a teacher’s gross \n",
    "salary. The function should return the teacher’s name, periods \n",
    "taught, and gross salary. Here is how you should format your \n",
    "output:\n",
    "Teacher: John Kelly, \n",
    "Periods: 105 \n",
    "Gross salary:2,125\n"
   ]
  },
  {
   "cell_type": "code",
   "execution_count": 9,
   "id": "a8bcd995-c7b4-44f8-b974-e40c00a41b96",
   "metadata": {},
   "outputs": [],
   "source": [
    "def your_salary():\n",
    "    monthly_rate = 20\n",
    "    name = input(\"enter name :\")\n",
    "    periods = int(input(\"number of periods taken in month\"))\n",
    "    if periods > 100:\n",
    "        ext_p = periods-100\n",
    "        ext_p = ext_p*25\n",
    "        gross_salary = 2000 + ext_p\n",
    "    else:\n",
    "        gross_salary = periods*monthly_rate\n",
    "\n",
    "    return print(f'Teacher: {name},\\nPeriods: {periods},\\n Gross Salary:{gross_salary}')"
   ]
  },
  {
   "cell_type": "code",
   "execution_count": 10,
   "id": "12c2e51b-a623-4621-b693-1e33c19fe71e",
   "metadata": {},
   "outputs": [
    {
     "name": "stdin",
     "output_type": "stream",
     "text": [
      "enter name : kaka\n",
      "number of periods taken in month 199\n"
     ]
    },
    {
     "name": "stdout",
     "output_type": "stream",
     "text": [
      "Teacher: kaka,\n",
      "Periods: 199,\n",
      " Gross Salary:4475\n"
     ]
    }
   ],
   "source": [
    "your_salary()"
   ]
  },
  {
   "cell_type": "code",
   "execution_count": null,
   "id": "41136466-21d6-44e9-bbe8-ae61b0946bea",
   "metadata": {},
   "outputs": [],
   "source": []
  },
  {
   "cell_type": "code",
   "execution_count": null,
   "id": "7c5fa680-0f77-438d-bdf9-961426cf14a8",
   "metadata": {},
   "outputs": [],
   "source": []
  },
  {
   "cell_type": "code",
   "execution_count": null,
   "id": "43746cae-f0be-4a3b-b771-8ee93dd5e641",
   "metadata": {},
   "outputs": [],
   "source": []
  },
  {
   "cell_type": "code",
   "execution_count": null,
   "id": "81e6bfff-327c-4f54-b33d-a6b7721b0aa7",
   "metadata": {},
   "outputs": [],
   "source": []
  }
 ],
 "metadata": {
  "kernelspec": {
   "display_name": "Python 3 (ipykernel)",
   "language": "python",
   "name": "python3"
  },
  "language_info": {
   "codemirror_mode": {
    "name": "ipython",
    "version": 3
   },
   "file_extension": ".py",
   "mimetype": "text/x-python",
   "name": "python",
   "nbconvert_exporter": "python",
   "pygments_lexer": "ipython3",
   "version": "3.11.8"
  }
 },
 "nbformat": 4,
 "nbformat_minor": 5
}
