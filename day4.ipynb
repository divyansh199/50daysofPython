{
 "cells": [
  {
   "cell_type": "markdown",
   "id": "f39510ad",
   "metadata": {},
   "source": [
    "# day4"
   ]
  },
  {
   "cell_type": "raw",
   "id": "dc6a630a",
   "metadata": {},
   "source": [
    ": Only Floats\n",
    "Write a function called only_floats, which has two parameters, \n",
    "a and b, and returns 2 if both arguments are floats, 1 if only one \n",
    "argument is a float, and 0 if neither argument is a float. If you \n",
    "pass (12.1, 23) as an argument, your function should return 1.\n"
   ]
  },
  {
   "cell_type": "code",
   "execution_count": 4,
   "id": "820cfecb",
   "metadata": {},
   "outputs": [],
   "source": [
    "def only_floats(a,b):\n",
    "    if isinstance(a,float) & isinstance(b,float):\n",
    "        return 2\n",
    "    elif isinstance(a,float) | isinstance(b,float):\n",
    "        return 1\n",
    "    else:\n",
    "        return 0"
   ]
  },
  {
   "cell_type": "code",
   "execution_count": 7,
   "id": "b64a982b",
   "metadata": {},
   "outputs": [
    {
     "data": {
      "text/plain": [
       "0"
      ]
     },
     "execution_count": 7,
     "metadata": {},
     "output_type": "execute_result"
    }
   ],
   "source": [
    "only_floats(1,2)"
   ]
  },
  {
   "cell_type": "raw",
   "id": "ed9f0ed4",
   "metadata": {},
   "source": [
    " Index of the Longest Word\n",
    "Write a function called word_index that takes one argument, a \n",
    "list of strings, and returns the index of the longest word in the list. \n",
    "If there is no longest word (if all the strings are of the same length), \n",
    "the function should return zero (0). For example, the first list below \n",
    "should return 2.\n",
    "words1 = [\"Hate\", \"remorse\", \"vengeance\"]\n",
    " And this list below, should return zero (0)\n",
    "words2 = [\"Love\", \"Hate\"]"
   ]
  },
  {
   "cell_type": "code",
   "execution_count": 21,
   "id": "e257e2ac",
   "metadata": {},
   "outputs": [],
   "source": [
    "def long_word(li):\n",
    "    return li.index((max(li)))"
   ]
  },
  {
   "cell_type": "code",
   "execution_count": 23,
   "id": "598b0939",
   "metadata": {},
   "outputs": [
    {
     "data": {
      "text/plain": [
       "2"
      ]
     },
     "execution_count": 23,
     "metadata": {},
     "output_type": "execute_result"
    }
   ],
   "source": [
    "long_word([\"Hate\", \"remorse\", \"vengeance\"])"
   ]
  },
  {
   "cell_type": "code",
   "execution_count": null,
   "id": "448ed65a",
   "metadata": {},
   "outputs": [],
   "source": []
  }
 ],
 "metadata": {
  "kernelspec": {
   "display_name": "Python 3 (ipykernel)",
   "language": "python",
   "name": "python3"
  },
  "language_info": {
   "codemirror_mode": {
    "name": "ipython",
    "version": 3
   },
   "file_extension": ".py",
   "mimetype": "text/x-python",
   "name": "python",
   "nbconvert_exporter": "python",
   "pygments_lexer": "ipython3",
   "version": "3.11.5"
  }
 },
 "nbformat": 4,
 "nbformat_minor": 5
}
