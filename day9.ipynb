{
 "cells": [
  {
   "cell_type": "markdown",
   "id": "639f5027-3eb3-45a5-894e-5f6ad8e877fc",
   "metadata": {},
   "source": [
    "# day9\n",
    "#### Biggest Odd Number\n",
    "Create a function called biggest_odd that takes a string of \n",
    "numbers as an argument and returns the biggest odd number in \n",
    "the string. For example, if you pass ‘23569’ as an argument, your \n",
    "function should return 9. Use list comprehension"
   ]
  },
  {
   "cell_type": "code",
   "execution_count": 8,
   "id": "6f2518ea-56d0-4520-865c-90d3872536f4",
   "metadata": {},
   "outputs": [],
   "source": [
    "def biggest_odd(st):\n",
    "    g = [int(x) for x in st if int(x)%2 != 0]\n",
    "    maxi = max(g)\n",
    "    return maxi"
   ]
  },
  {
   "cell_type": "code",
   "execution_count": 9,
   "id": "7f3fa5b3-6a53-4f97-b66c-635070ac1935",
   "metadata": {},
   "outputs": [
    {
     "data": {
      "text/plain": [
       "9"
      ]
     },
     "execution_count": 9,
     "metadata": {},
     "output_type": "execute_result"
    }
   ],
   "source": [
    "biggest_odd(\"23569\")"
   ]
  },
  {
   "cell_type": "markdown",
   "id": "d8c6fca1-2e2f-4bec-98e1-71c7de8a0c91",
   "metadata": {},
   "source": [
    "## Extra Challenge: Zeros to the End\n",
    "Write a function called zeros_last. This function takes a list as an \n",
    "argument. If a list has zeros (0), it will move them to the end of the \n",
    "list and maintain the order of the other numbers in the list. If there \n",
    "are no zeros in the list, the function should return the original list,\n",
    "sorted in ascending order. For example, if you pass [1, 4, 6, 0, 7, \n",
    "0, 9] as an argument, your code should return [1, 4, 6, 9, 0, 0]. \n",
    "If you pass [2, 1, 4, 7, 6] as your argument, your code should \n",
    "return [1, 2, 4, 6, 7]"
   ]
  },
  {
   "cell_type": "code",
   "execution_count": 6,
   "id": "ddea530e-cfd6-459d-bd9c-fa924a798b8b",
   "metadata": {},
   "outputs": [],
   "source": [
    "def zeros_last(li):\n",
    "    counter = li.count(0)\n",
    "    if counter == 0:\n",
    "        li = sorted(li)\n",
    "    else:\n",
    "        li2 = filter(lambda x: x != 0,li)\n",
    "        li2 = list(li2)\n",
    "        for i in range(counter):\n",
    "            li2.append(0)\n",
    "    return li2"
   ]
  },
  {
   "cell_type": "code",
   "execution_count": 7,
   "id": "6ffe3387-f590-4fdb-acae-e4c3acf63eed",
   "metadata": {},
   "outputs": [
    {
     "data": {
      "text/plain": [
       "[1, 4, 6, 7, 9, 0, 0]"
      ]
     },
     "execution_count": 7,
     "metadata": {},
     "output_type": "execute_result"
    }
   ],
   "source": [
    "zeros_last([1, 4, 6, 0, 7, 0, 9])"
   ]
  },
  {
   "cell_type": "code",
   "execution_count": null,
   "id": "bd03e1a9-8972-4718-b242-e6c3ef7d8c9b",
   "metadata": {},
   "outputs": [],
   "source": []
  }
 ],
 "metadata": {
  "kernelspec": {
   "display_name": "Python 3 (ipykernel)",
   "language": "python",
   "name": "python3"
  },
  "language_info": {
   "codemirror_mode": {
    "name": "ipython",
    "version": 3
   },
   "file_extension": ".py",
   "mimetype": "text/x-python",
   "name": "python",
   "nbconvert_exporter": "python",
   "pygments_lexer": "ipython3",
   "version": "3.11.8"
  }
 },
 "nbformat": 4,
 "nbformat_minor": 5
}
