{
 "cells": [
  {
   "cell_type": "markdown",
   "id": "8a9120c9-998a-436b-8bfd-d85a371839b5",
   "metadata": {},
   "source": [
    "# Day-5\n",
    "#### Create a function called my_discount. The function takes no arguments but asks the user to input the price and the discount(percentage) of the product. Once the user inputs the price and discount, it calculates the price after the discount. The function should return the price after the discount. For example, if the user enters 150 as the price and 15% as the discount, your function should return 127.5."
   ]
  },
  {
   "cell_type": "code",
   "execution_count": 4,
   "id": "17f0a2bc-8fee-41ce-9e9f-d2320f3626e6",
   "metadata": {},
   "outputs": [],
   "source": [
    "def my_discount(paisa, dis):\n",
    "    dis = int(dis.replace(\"%\",\"\"))\n",
    "    paisa_dis = (15/100)*paisa\n",
    "    paisa = paisa - paisa_dis\n",
    "    return paisa"
   ]
  },
  {
   "cell_type": "code",
   "execution_count": 5,
   "id": "1ed53003-8659-4b44-bfd4-54231a753a12",
   "metadata": {},
   "outputs": [
    {
     "data": {
      "text/plain": [
       "127.5"
      ]
     },
     "execution_count": 5,
     "metadata": {},
     "output_type": "execute_result"
    }
   ],
   "source": [
    "my_discount(150, \"15%\")"
   ]
  },
  {
   "cell_type": "markdown",
   "id": "f92cc5de-5a45-4555-ae73-d83b619c5c15",
   "metadata": {},
   "source": [
    "# Extra Challenge: Tuple of Student Sex\n",
    "#### You work for a school, and your boss wants to know how many female and male students are enrolled in the school. The school has saved the students on a list. Your task is to write a code that will count how many males and females are in the list. Here is a list \n",
    "below:\n",
    "students = ['Male', 'Female', 'female', 'male', 'male', 'male',\n",
    "'female', 'male', 'Female', 'Male', 'Female', 'Male', \n",
    "'female']\n",
    "Your code should return a list of tuples. The list above should \n",
    "return: [(\"Male\", 7), (\"female\", 6)]\n"
   ]
  },
  {
   "cell_type": "code",
   "execution_count": 6,
   "id": "7d721e88-cd6b-42a9-9c09-84c67d8e69c8",
   "metadata": {},
   "outputs": [],
   "source": [
    "students = ['Male', 'Female', 'female', 'male', 'male', 'male', 'female', 'male', 'Female', 'Male', 'Female', 'Male', 'female']"
   ]
  },
  {
   "cell_type": "code",
   "execution_count": 64,
   "id": "46383fa6-3885-4e88-9a0e-257983099efa",
   "metadata": {},
   "outputs": [],
   "source": [
    "k = filter(lambda x: x == \"Male\" or x == \"male\",students)"
   ]
  },
  {
   "cell_type": "code",
   "execution_count": 65,
   "id": "f1229338-ed34-4932-a445-fac780d917b2",
   "metadata": {},
   "outputs": [],
   "source": [
    "r = list(k)"
   ]
  },
  {
   "cell_type": "code",
   "execution_count": 67,
   "id": "24ce4057-1377-4954-9dbd-1703ee4e7677",
   "metadata": {},
   "outputs": [],
   "source": [
    "count1 = len(r)"
   ]
  },
  {
   "cell_type": "code",
   "execution_count": 68,
   "id": "fadbb06e-1238-47f3-ba04-47dc41464d98",
   "metadata": {},
   "outputs": [
    {
     "data": {
      "text/plain": [
       "7"
      ]
     },
     "execution_count": 68,
     "metadata": {},
     "output_type": "execute_result"
    }
   ],
   "source": [
    "count1"
   ]
  },
  {
   "cell_type": "code",
   "execution_count": 69,
   "id": "3baf5205-9dcb-4263-87ee-04a0994f363b",
   "metadata": {},
   "outputs": [],
   "source": [
    "a = filter(lambda x: x == \"Female\" or x == \"female\",students)"
   ]
  },
  {
   "cell_type": "code",
   "execution_count": 70,
   "id": "8a89479e-d22f-4ae4-b8cd-bb33b5c054e3",
   "metadata": {},
   "outputs": [
    {
     "data": {
      "text/plain": [
       "['Female', 'female', 'female', 'Female', 'Female', 'female']"
      ]
     },
     "execution_count": 70,
     "metadata": {},
     "output_type": "execute_result"
    }
   ],
   "source": [
    "m = list(a)\n",
    "m"
   ]
  },
  {
   "cell_type": "code",
   "execution_count": 71,
   "id": "57a8f3eb-1a80-42d4-89d5-cb484ae6fda6",
   "metadata": {},
   "outputs": [],
   "source": [
    "count2 = len(m)"
   ]
  },
  {
   "cell_type": "code",
   "execution_count": 72,
   "id": "472efb90-f445-4ff9-b324-c49aa5bf827f",
   "metadata": {},
   "outputs": [
    {
     "data": {
      "text/plain": [
       "6"
      ]
     },
     "execution_count": 72,
     "metadata": {},
     "output_type": "execute_result"
    }
   ],
   "source": [
    "count2"
   ]
  },
  {
   "cell_type": "code",
   "execution_count": 75,
   "id": "98d0849f-05d1-4f87-be6d-4256996a12c9",
   "metadata": {},
   "outputs": [],
   "source": [
    "first = [\"Male\",\"Female\"]\n",
    "second = [7,6]\n",
    "g= zip(first,second)"
   ]
  },
  {
   "cell_type": "code",
   "execution_count": 77,
   "id": "065c437d-5b63-40cc-a20f-754babda242a",
   "metadata": {},
   "outputs": [
    {
     "data": {
      "text/plain": [
       "[('Male', 7), ('Female', 6)]"
      ]
     },
     "execution_count": 77,
     "metadata": {},
     "output_type": "execute_result"
    }
   ],
   "source": [
    "list(g)"
   ]
  },
  {
   "cell_type": "code",
   "execution_count": null,
   "id": "484c57de-fe8b-42a5-9b1c-ce515fa3ef71",
   "metadata": {},
   "outputs": [],
   "source": []
  }
 ],
 "metadata": {
  "kernelspec": {
   "display_name": "Python 3 (ipykernel)",
   "language": "python",
   "name": "python3"
  },
  "language_info": {
   "codemirror_mode": {
    "name": "ipython",
    "version": 3
   },
   "file_extension": ".py",
   "mimetype": "text/x-python",
   "name": "python",
   "nbconvert_exporter": "python",
   "pygments_lexer": "ipython3",
   "version": "3.11.8"
  }
 },
 "nbformat": 4,
 "nbformat_minor": 5
}
