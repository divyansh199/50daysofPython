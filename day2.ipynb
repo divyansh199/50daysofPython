{
 "cells": [
  {
   "cell_type": "markdown",
   "id": "523e02b3",
   "metadata": {},
   "source": [
    "# day2"
   ]
  },
  {
   "cell_type": "raw",
   "id": "5676addc",
   "metadata": {},
   "source": [
    "Strings to Integers\n",
    "Write a function called convert_add that takes a list of strings \n",
    "as an argument, converts them to integers, and sums the list. For \n",
    "example, [\"1\", \"3\", \"5\"] should be converted to [1, 3, 5] and \n",
    "summed to 9."
   ]
  },
  {
   "cell_type": "code",
   "execution_count": 6,
   "id": "30c33c11",
   "metadata": {},
   "outputs": [],
   "source": [
    "def convert_add(li):\n",
    "    li2 = [int(x) for x in li]\n",
    "    total = sum(li2)\n",
    "    return total"
   ]
  },
  {
   "cell_type": "code",
   "execution_count": 7,
   "id": "ece8c9a3",
   "metadata": {},
   "outputs": [
    {
     "data": {
      "text/plain": [
       "9"
      ]
     },
     "execution_count": 7,
     "metadata": {},
     "output_type": "execute_result"
    }
   ],
   "source": [
    "convert_add([\"1\", \"3\", \"5\"])"
   ]
  },
  {
   "cell_type": "raw",
   "id": "10e61244",
   "metadata": {},
   "source": [
    "Duplicate Names\n",
    "Write a function called check_duplicates that takes a list of \n",
    "strings as an argument. The function should check if the list has \n",
    "any duplicates. If there are duplicates, the function should return \n",
    "a list of duplicates. If there are no duplicates, the function should \n",
    "return \"no duplicates.\" For example, the list of fruits below \n",
    "should return [\"apple\", \"banana\"], and the list of names\n",
    "should return \"no duplicates.\"\n",
    "fruits = ['apple', 'orange', 'banana', 'apple', 'banana']\n",
    "names = ['Yoda', 'Moses', 'Joshua', 'Mark']"
   ]
  },
  {
   "cell_type": "code",
   "execution_count": 69,
   "id": "66a40a6c",
   "metadata": {},
   "outputs": [],
   "source": [
    "def check_duplicate(li):\n",
    "    k = list(set([ x for x in li if li.count(x) > 1 ]))\n",
    "    if len(k)>1:\n",
    "        return k\n",
    "    else:\n",
    "        return \"no duplicates\"\n",
    "\n"
   ]
  },
  {
   "cell_type": "code",
   "execution_count": 70,
   "id": "b618eca8",
   "metadata": {},
   "outputs": [
    {
     "data": {
      "text/plain": [
       "'no duplicates'"
      ]
     },
     "execution_count": 70,
     "metadata": {},
     "output_type": "execute_result"
    }
   ],
   "source": [
    "check_duplicate(['Yoda', 'Moses', 'Joshua', 'Mark'])"
   ]
  },
  {
   "cell_type": "code",
   "execution_count": null,
   "id": "48bb7a07",
   "metadata": {},
   "outputs": [],
   "source": []
  },
  {
   "cell_type": "code",
   "execution_count": null,
   "id": "52135402",
   "metadata": {},
   "outputs": [],
   "source": []
  }
 ],
 "metadata": {
  "kernelspec": {
   "display_name": "Python 3 (ipykernel)",
   "language": "python",
   "name": "python3"
  },
  "language_info": {
   "codemirror_mode": {
    "name": "ipython",
    "version": 3
   },
   "file_extension": ".py",
   "mimetype": "text/x-python",
   "name": "python",
   "nbconvert_exporter": "python",
   "pygments_lexer": "ipython3",
   "version": "3.11.5"
  }
 },
 "nbformat": 4,
 "nbformat_minor": 5
}
