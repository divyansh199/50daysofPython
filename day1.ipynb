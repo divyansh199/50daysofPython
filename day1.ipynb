{
 "cells": [
  {
   "cell_type": "markdown",
   "id": "62c98239",
   "metadata": {},
   "source": [
    "# day 1"
   ]
  },
  {
   "cell_type": "raw",
   "id": "bc5ac114",
   "metadata": {},
   "source": [
    "Division and Square-root\n",
    "Write a function called divide_or_square that takes one \n",
    "argument (a number) and returns the square root of the number if \n",
    "it is divisible by 5, or its remainder if it is not divisible by 5. For \n",
    "example, if you pass 10 as an argument, then your function should \n",
    "return 3.16 as the square root."
   ]
  },
  {
   "cell_type": "code",
   "execution_count": 6,
   "id": "0557e583",
   "metadata": {},
   "outputs": [],
   "source": [
    "import math\n",
    "def divide_or_square(num):\n",
    "    if num % 5 == 0:\n",
    "        return round(math.sqrt(num),2)\n",
    "    else:\n",
    "        return num % 5\n",
    "    "
   ]
  },
  {
   "cell_type": "code",
   "execution_count": 7,
   "id": "0b8e9979",
   "metadata": {},
   "outputs": [
    {
     "data": {
      "text/plain": [
       "3.16"
      ]
     },
     "execution_count": 7,
     "metadata": {},
     "output_type": "execute_result"
    }
   ],
   "source": [
    "divide_or_square(10)"
   ]
  },
  {
   "cell_type": "raw",
   "id": "7d295ba3",
   "metadata": {},
   "source": [
    "Extra Challenge: Longest Value\n",
    "Write a function called longest_value that takes a dictionary as \n",
    "an argument and returns the first longest value of the dictionary. \n",
    "For example, the following dictionary should return \"apple\" as the \n",
    "longest value.\n",
    "fruits = {'fruit': 'apple', 'color': 'green'}\n"
   ]
  },
  {
   "cell_type": "code",
   "execution_count": 103,
   "id": "5b2bdfab",
   "metadata": {},
   "outputs": [],
   "source": [
    "def longest_value(dic):\n",
    "    k = dic.values()\n",
    "    a = sorted(k,reverse =True,key=len)\n",
    "    return a[0]"
   ]
  },
  {
   "cell_type": "code",
   "execution_count": 104,
   "id": "7e412290",
   "metadata": {},
   "outputs": [],
   "source": [
    "fruits = {\"fruit\": \"apple\" , \"color\": \"green\"}"
   ]
  },
  {
   "cell_type": "code",
   "execution_count": 105,
   "id": "16711bcd",
   "metadata": {},
   "outputs": [
    {
     "data": {
      "text/plain": [
       "'apple'"
      ]
     },
     "execution_count": 105,
     "metadata": {},
     "output_type": "execute_result"
    }
   ],
   "source": [
    "longest_value(fruits)"
   ]
  },
  {
   "cell_type": "code",
   "execution_count": null,
   "id": "ddfcc4e0",
   "metadata": {},
   "outputs": [],
   "source": []
  },
  {
   "cell_type": "code",
   "execution_count": null,
   "id": "7493d4aa",
   "metadata": {},
   "outputs": [],
   "source": []
  }
 ],
 "metadata": {
  "kernelspec": {
   "display_name": "Python 3 (ipykernel)",
   "language": "python",
   "name": "python3"
  },
  "language_info": {
   "codemirror_mode": {
    "name": "ipython",
    "version": 3
   },
   "file_extension": ".py",
   "mimetype": "text/x-python",
   "name": "python",
   "nbconvert_exporter": "python",
   "pygments_lexer": "ipython3",
   "version": "3.11.5"
  }
 },
 "nbformat": 4,
 "nbformat_minor": 5
}
