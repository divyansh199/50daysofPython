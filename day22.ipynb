{
 "cells": [
  {
   "cell_type": "markdown",
   "id": "705e9c58-2aaa-4bc6-86b0-d06d3171bcf1",
   "metadata": {},
   "source": [
    "# day22"
   ]
  },
  {
   "cell_type": "markdown",
   "id": "c6466f91-f3be-459f-8880-98c9ae1e2028",
   "metadata": {},
   "source": [
    "### Add Under_Score\n",
    "Create three functions. The first, called add_hash takes a string \n",
    "and adds a hash (#) between the words. The second function, \n",
    "called add_underscore removes the hash (#) and replaces it \n",
    "with an underscore (\"_\"). The third function, called \n",
    "remove_underscore, removes the underscore and replaces it \n",
    "with nothing. If you pass \"Python\" as an argument for the three \n",
    "functions, and you call them at the same time like:\n",
    "print(remove_underscore(add_underscore(add_hash('Python')))) \n",
    "it should return \"Python\""
   ]
  },
  {
   "cell_type": "code",
   "execution_count": 7,
   "id": "f254a4e9-eceb-47d8-a6d6-a6d90442ed87",
   "metadata": {},
   "outputs": [],
   "source": [
    "def add_hash(st: str):\n",
    "    st = st.replace(\" \",\"#\")\n",
    "    return st\n",
    "def add_underscore(st: str):\n",
    "    st = st.replace(\"#\",\"_\")\n",
    "    return st\n",
    "def remove_underscore(st: str):\n",
    "    st = st.replace(\"_\",\" \")\n",
    "    return st\n"
   ]
  },
  {
   "cell_type": "code",
   "execution_count": 12,
   "id": "bbec89d0-33c4-464d-957e-78a92497545e",
   "metadata": {},
   "outputs": [
    {
     "name": "stdout",
     "output_type": "stream",
     "text": [
      "Python_love\n"
     ]
    }
   ],
   "source": [
    "print(add_underscore(add_hash('Python love')))"
   ]
  },
  {
   "cell_type": "code",
   "execution_count": null,
   "id": "51bb437b-dd68-433b-bd1f-da780503e8ae",
   "metadata": {},
   "outputs": [],
   "source": []
  }
 ],
 "metadata": {
  "kernelspec": {
   "display_name": "Python 3 (ipykernel)",
   "language": "python",
   "name": "python3"
  },
  "language_info": {
   "codemirror_mode": {
    "name": "ipython",
    "version": 3
   },
   "file_extension": ".py",
   "mimetype": "text/x-python",
   "name": "python",
   "nbconvert_exporter": "python",
   "pygments_lexer": "ipython3",
   "version": "3.11.8"
  }
 },
 "nbformat": 4,
 "nbformat_minor": 5
}
