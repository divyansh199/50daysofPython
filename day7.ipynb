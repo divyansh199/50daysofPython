{
 "cells": [
  {
   "cell_type": "markdown",
   "id": "23aced20-1190-47b7-954d-e77d1b625357",
   "metadata": {},
   "source": [
    "# day7\n",
    "#### A String Range\r\n",
    "Write a function called string_range that takes a single number \r\n",
    "and returns a string of its range. The string characters should be \r\n",
    "separated by dots(.). For example, if you pass 6 as an argument, \r\n",
    "your function should return \"0.1.2.3.4.5.\""
   ]
  },
  {
   "cell_type": "code",
   "execution_count": 39,
   "id": "72620eb5-e319-4f24-9ac1-5b97152549df",
   "metadata": {},
   "outputs": [],
   "source": [
    "def string_range(val):\n",
    "    k = \"\"\n",
    "    for i in range(val):\n",
    "        k +=  f\"{i}.\"\n",
    "    return k\n",
    "    "
   ]
  },
  {
   "cell_type": "code",
   "execution_count": 37,
   "id": "e4d5a7c7-45de-4e28-b955-b5539a104d93",
   "metadata": {},
   "outputs": [],
   "source": [
    "def string_range(val):\n",
    "    x = [str(i) for i in range(val)]\n",
    "    x = \".\".join(x)+\".\"\n",
    "    return x\n",
    "    "
   ]
  },
  {
   "cell_type": "code",
   "execution_count": 38,
   "id": "dfd6c41a-1821-49c9-a2dd-54442dfd720a",
   "metadata": {},
   "outputs": [
    {
     "data": {
      "text/plain": [
       "'0.1.2.3.4.5.'"
      ]
     },
     "execution_count": 38,
     "metadata": {},
     "output_type": "execute_result"
    }
   ],
   "source": [
    "string_range(6)"
   ]
  },
  {
   "cell_type": "markdown",
   "id": "9295ced3-4e56-4deb-8401-a922c7163ed0",
   "metadata": {},
   "source": [
    "## Dictionary of Names\n",
    "You are given a list of names, and you are asked to write a code that \n",
    "returns all the names that start with \"S.\" Your code should return \n",
    "a dictionary of all the names that start with S and how many times \n",
    "they appear in the dictionary. Here is a list below:\n",
    "names = [\"Joseph\", \"Nathan\", \"Sasha\", \"Kelly\",\n",
    " \"Muhammad\", \"Jabulani\", \"Sera\", \"Patel\", \"Sera\"]\n",
    "Your code should return: {\"Sasha\": 1, \"Sera\": 2}"
   ]
  },
  {
   "cell_type": "code",
   "execution_count": 26,
   "id": "fff4a827-ee78-4635-a60f-9bebdff38840",
   "metadata": {},
   "outputs": [],
   "source": [
    "# def my_dict(li):\n",
    "#     li1 = [i for i in li if i[0] == \"S\" or i[0] == \"s\"]\n",
    "#     li2 = map(lambda x : li1.count(x) , li1)\n",
    "#     li3 = zip(li1,li2)\n",
    "#     dic = {}\n",
    "#     for key,value in li3:\n",
    "#         dic[key] = value\n",
    "#     return dic"
   ]
  },
  {
   "cell_type": "code",
   "execution_count": 44,
   "id": "90368466-0a4c-4c06-a290-c80015537631",
   "metadata": {},
   "outputs": [],
   "source": [
    "def my_dict(li):\n",
    "    dic = {}\n",
    "    for key in li:\n",
    "        if key.startswith('S'):\n",
    "            dic.update({key: li.count(key)})\n",
    "    return dic"
   ]
  },
  {
   "cell_type": "code",
   "execution_count": 45,
   "id": "00123ea9-6ab4-4cbf-b3bd-115bd49a15aa",
   "metadata": {},
   "outputs": [
    {
     "data": {
      "text/plain": [
       "{'Sasha': 1, 'Sera': 2}"
      ]
     },
     "execution_count": 45,
     "metadata": {},
     "output_type": "execute_result"
    }
   ],
   "source": [
    "my_dict([\"Joseph\", \"Nathan\", \"Sasha\", \"Kelly\", \"Muhammad\", \"Jabulani\", \"Sera\", \"Patel\", \"Sera\"])"
   ]
  },
  {
   "cell_type": "code",
   "execution_count": null,
   "id": "c7412ef5-8e24-45e7-b09f-f5176939d91b",
   "metadata": {},
   "outputs": [],
   "source": []
  }
 ],
 "metadata": {
  "kernelspec": {
   "display_name": "Python 3 (ipykernel)",
   "language": "python",
   "name": "python3"
  },
  "language_info": {
   "codemirror_mode": {
    "name": "ipython",
    "version": 3
   },
   "file_extension": ".py",
   "mimetype": "text/x-python",
   "name": "python",
   "nbconvert_exporter": "python",
   "pygments_lexer": "ipython3",
   "version": "3.11.8"
  }
 },
 "nbformat": 4,
 "nbformat_minor": 5
}
