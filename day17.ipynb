{
 "cells": [
  {
   "cell_type": "markdown",
   "id": "ee121839-1b14-4bb6-aecb-c40c7c8dfd57",
   "metadata": {},
   "source": [
    "# day17"
   ]
  },
  {
   "cell_type": "markdown",
   "id": "b429ed82-93ea-4c90-924c-60dcbc301986",
   "metadata": {},
   "source": [
    "#### User Name Generator\n",
    "Write a function called user_name, that creates a username for \n",
    "the user. The function should ask a user to input their name. The \n",
    "function should then reverse the name and attach a randomly \n",
    "issued number between 0 and 9 at the end of the name. The \n",
    "function should return the username"
   ]
  },
  {
   "cell_type": "code",
   "execution_count": 4,
   "id": "e56640e3-d216-46d1-b82c-1ba04a57bd67",
   "metadata": {},
   "outputs": [],
   "source": [
    "import random\n",
    "def user_name():\n",
    "    name = input(\"enter your name\")\n",
    "    name = name[::-1]\n",
    "    random_number = str(random.randint(0,9))\n",
    "    name = name + random_number\n",
    "    return name"
   ]
  },
  {
   "cell_type": "code",
   "execution_count": 5,
   "id": "700b0b6a-bdb4-4e77-be88-1c8d3c9d8bdc",
   "metadata": {},
   "outputs": [
    {
     "name": "stdin",
     "output_type": "stream",
     "text": [
      "enter your name rahul\n"
     ]
    },
    {
     "data": {
      "text/plain": [
       "'luhar3'"
      ]
     },
     "execution_count": 5,
     "metadata": {},
     "output_type": "execute_result"
    }
   ],
   "source": [
    "user_name()"
   ]
  },
  {
   "cell_type": "markdown",
   "id": "997838e5-cba8-4a7f-adf1-cedee1acb677",
   "metadata": {},
   "source": [
    "#### Sort by Length\n",
    "names = [ \"Peter\", \"Jon\", \"Andrew\"]\n",
    "Write a function called sort_length that takes a list of strings as\n",
    "an argument and sorts the strings in ascending order according to \n",
    "their length. For example, the list above should return:\n",
    "['Jon', 'Peter', 'Andrew']\n",
    "Do not use the built-in sort functions"
   ]
  },
  {
   "cell_type": "code",
   "execution_count": 16,
   "id": "abb9e5e8-772a-4d42-958d-2b1c1f14903c",
   "metadata": {},
   "outputs": [],
   "source": [
    "def sort_length(names: list)->list:\n",
    "    k = sorted(names,key = lambda x: len(x))\n",
    "    return k"
   ]
  },
  {
   "cell_type": "code",
   "execution_count": 17,
   "id": "c9ce5a8a-4f35-4848-942e-3aac00e7aba0",
   "metadata": {},
   "outputs": [
    {
     "data": {
      "text/plain": [
       "['Jon', 'Peter', 'Andrew']"
      ]
     },
     "execution_count": 17,
     "metadata": {},
     "output_type": "execute_result"
    }
   ],
   "source": [
    "sort_length([ \"Peter\", \"Jon\", \"Andrew\"])"
   ]
  },
  {
   "cell_type": "code",
   "execution_count": null,
   "id": "9c1b9ebc-a37f-48f5-b6eb-3a441f5deb26",
   "metadata": {},
   "outputs": [],
   "source": []
  }
 ],
 "metadata": {
  "kernelspec": {
   "display_name": "Python 3 (ipykernel)",
   "language": "python",
   "name": "python3"
  },
  "language_info": {
   "codemirror_mode": {
    "name": "ipython",
    "version": 3
   },
   "file_extension": ".py",
   "mimetype": "text/x-python",
   "name": "python",
   "nbconvert_exporter": "python",
   "pygments_lexer": "ipython3",
   "version": "3.11.8"
  }
 },
 "nbformat": 4,
 "nbformat_minor": 5
}
