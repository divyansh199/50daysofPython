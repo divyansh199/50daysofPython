{
 "cells": [
  {
   "cell_type": "markdown",
   "id": "ee9b4540-9a24-40c1-90e2-d250d2200611",
   "metadata": {},
   "source": [
    "# Day 23: Simple Calculator\n",
    "#### Create a simple calculator. The calculator should be able to perform\n",
    "the following basic math operations: add, subtract, divide, and \n",
    "multiply. The calculator should take input from users. The calculator \n",
    "should be able to handle ZeroDivisionError, NameError, and \n",
    "ValueError."
   ]
  },
  {
   "cell_type": "code",
   "execution_count": 2,
   "id": "d9f7a1f5-04f0-41c9-8648-6126a3c797d1",
   "metadata": {},
   "outputs": [],
   "source": [
    "import operator\n",
    "\n",
    "def calculator():\n",
    "    try:\n",
    "        num1= int(input(\"enter number\"))\n",
    "        opt = input(\"pic operator (+,-,*,/) \")\n",
    "        num2 = int(input(\"enter 2nd num\"))\n",
    "        if opt not in ['+','-','*','/'] or len(opt)>1:\n",
    "            print(\"please enter valid operator\")\n",
    "    except ValueError:\n",
    "        print(\"please enter valid number\")\n",
    "    except ZeroDivisionError:\n",
    "        print(\"you cant divide a number by zero try again\")\n",
    "    else:\n",
    "        if opt == '+':\n",
    "            return f'ans is: {operator.add(num1,num2)}'\n",
    "        elif opt == '-':\n",
    "            return f'ans is: {operator.sub(num1,num2)}'\n",
    "        elif opt == '*':\n",
    "            return f'ans is: {operator.mul(num1,num2)}'\n",
    "        elif opt == '/':\n",
    "            return f'ans is: {operator.truediv(num1,num2)}'\n",
    "    return \"try agin\"\n",
    "    "
   ]
  },
  {
   "cell_type": "code",
   "execution_count": 4,
   "id": "2a38dc15-2479-49fe-a2d2-887e7ff76d10",
   "metadata": {},
   "outputs": [
    {
     "name": "stdin",
     "output_type": "stream",
     "text": [
      "enter number 23d\n"
     ]
    },
    {
     "name": "stdout",
     "output_type": "stream",
     "text": [
      "please enter valid number\n"
     ]
    },
    {
     "data": {
      "text/plain": [
       "'try agin'"
      ]
     },
     "execution_count": 4,
     "metadata": {},
     "output_type": "execute_result"
    }
   ],
   "source": [
    "calculator()"
   ]
  },
  {
   "cell_type": "markdown",
   "id": "fe461cd4-33a2-494b-889f-5278bae2f99e",
   "metadata": {},
   "source": [
    "#### Extra Challenge: Multiply Words\n",
    "s = \"love live and laugh\"\n",
    "Write a function called multiply_words that takes a string as an \n",
    "argument and multiplies the length of each word in the string by the \n",
    "length of other words in the string. For example, the string above \n",
    "should return 240: love (4), live (4), and (3), laugh (5). \n",
    "However, your function should only multiply words with all \n",
    "lowercase letters. If a word has one uppercase letter, it should be \n",
    "ignored. For example, the following string:\n",
    "s = \"Hate war love Peace\" should return 12 – war (3) love (4). \n",
    "Hate and Peace will be ignored because they have at least one \n",
    "uppercase letter"
   ]
  },
  {
   "cell_type": "code",
   "execution_count": 12,
   "id": "070719da-d039-4e75-a554-e0ceb833f4c7",
   "metadata": {},
   "outputs": [],
   "source": [
    "from functools import reduce\n",
    "def multiply_words(s: str)-> int:\n",
    "    li = s.split()\n",
    "    j = [len(x)  for x in li if not x[0].isupper()]\n",
    "    return reduce(lambda x,y: x*y, j)"
   ]
  },
  {
   "cell_type": "code",
   "execution_count": 14,
   "id": "f6c5209e-979a-4738-91a2-52cef2955b7c",
   "metadata": {},
   "outputs": [
    {
     "data": {
      "text/plain": [
       "240"
      ]
     },
     "execution_count": 14,
     "metadata": {},
     "output_type": "execute_result"
    }
   ],
   "source": [
    "multiply_words(\"love live and laugh\")"
   ]
  },
  {
   "cell_type": "code",
   "execution_count": 104,
   "id": "2d0cd1c8-c33a-4bb9-be9e-36d5c17932fd",
   "metadata": {},
   "outputs": [],
   "source": [
    "def lengthOfLongestSubstring(s: str) -> int:\n",
    "    li = []\n",
    "    k = s[0]\n",
    "    j=0\n",
    "    for i in range(1, len(s)):\n",
    "        if s[i] not in k:\n",
    "            k += s[i]\n",
    "            print(k)\n",
    "            if i == len(s)-1:\n",
    "                return len(k)\n",
    "        else:\n",
    "            li.append(s[j:i])\n",
    "            k = s[i-1]\n",
    "            print(k)\n",
    "            j = i\n",
    "    return li"
   ]
  },
  {
   "cell_type": "code",
   "execution_count": 105,
   "id": "4ee8c876-89ef-4d6e-a86e-408fc04908fa",
   "metadata": {},
   "outputs": [
    {
     "name": "stdout",
     "output_type": "stream",
     "text": [
      "dv\n",
      "v\n",
      "vf\n"
     ]
    },
    {
     "data": {
      "text/plain": [
       "2"
      ]
     },
     "execution_count": 105,
     "metadata": {},
     "output_type": "execute_result"
    }
   ],
   "source": [
    "lengthOfLongestSubstring(\"dvdf\")"
   ]
  },
  {
   "cell_type": "code",
   "execution_count": 55,
   "id": "f60ec158-f5d4-46ab-ab46-aea093dd2074",
   "metadata": {},
   "outputs": [
    {
     "data": {
      "text/plain": [
       "9"
      ]
     },
     "execution_count": 55,
     "metadata": {},
     "output_type": "execute_result"
    }
   ],
   "source": [
    "len(\"sdflakasd\")"
   ]
  },
  {
   "cell_type": "code",
   "execution_count": 5,
   "id": "197b68a2-7693-45ae-bc0c-851e6b8a8360",
   "metadata": {},
   "outputs": [
    {
     "name": "stdout",
     "output_type": "stream",
     "text": [
      "140729915662184\n",
      "140729915662184\n"
     ]
    }
   ],
   "source": [
    "a =99\n",
    "b=99\n",
    "print(id(a))\n",
    "print(id(b))"
   ]
  },
  {
   "cell_type": "code",
   "execution_count": null,
   "id": "809a95bc-0204-485c-9661-8c8d727f8899",
   "metadata": {},
   "outputs": [],
   "source": []
  },
  {
   "cell_type": "code",
   "execution_count": null,
   "id": "56642b8f-c3de-433c-9f44-c04a88592515",
   "metadata": {},
   "outputs": [],
   "source": []
  }
 ],
 "metadata": {
  "kernelspec": {
   "display_name": "Python 3 (ipykernel)",
   "language": "python",
   "name": "python3"
  },
  "language_info": {
   "codemirror_mode": {
    "name": "ipython",
    "version": 3
   },
   "file_extension": ".py",
   "mimetype": "text/x-python",
   "name": "python",
   "nbconvert_exporter": "python",
   "pygments_lexer": "ipython3",
   "version": "3.11.8"
  }
 },
 "nbformat": 4,
 "nbformat_minor": 5
}
