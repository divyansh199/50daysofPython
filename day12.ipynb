{
 "cells": [
  {
   "cell_type": "markdown",
   "id": "3d07be05-753b-419c-aaaf-67b9690b4b61",
   "metadata": {},
   "source": [
    "# day12"
   ]
  },
  {
   "cell_type": "markdown",
   "id": "46dee373-2fda-4b8c-8d2e-8689b777e4b8",
   "metadata": {},
   "source": [
    "#### Count the Dots\n",
    "Write a function called count_dots. This function takes a string \n",
    "separated by dots as a parameter and counts how many dots are in \n",
    "the string. For example, \"h.e.l.p.\" should return 4 dots, and \n",
    "\"he.lp.\" should return 2 dots.\n"
   ]
  },
  {
   "cell_type": "code",
   "execution_count": 23,
   "id": "afad460d-01ff-430b-aefa-643219c9b770",
   "metadata": {},
   "outputs": [],
   "source": [
    "def count_dots(s):\n",
    "    c = s.count(\".\")\n",
    "    return c\n"
   ]
  },
  {
   "cell_type": "code",
   "execution_count": 24,
   "id": "5ad1414d-44b0-46b5-ad9f-d93987d0fc34",
   "metadata": {},
   "outputs": [
    {
     "data": {
      "text/plain": [
       "4"
      ]
     },
     "execution_count": 24,
     "metadata": {},
     "output_type": "execute_result"
    }
   ],
   "source": [
    "count_dots(\"h.e.l.p.\")"
   ]
  },
  {
   "cell_type": "markdown",
   "id": "6daa0de9-3324-4b84-990c-796b395f2cd0",
   "metadata": {},
   "source": [
    "#### Extra Challenge: Your Age in Minutes\n",
    "Write a function called age_in_minutes that tells a user how \n",
    "old they are in minutes. Your code should ask the user to enter \n",
    "their year of birth, and it should return their age in minutes (by \n",
    "subtracting their year of birth from the current year). Here are \n",
    "things to look out for:\n",
    "a. The user can only input a 4-digit year of birth. For example, \n",
    "1930 is a valid year. However, entering any number longer \n",
    "or shorter than 4 digits, should render the input invalid. \n",
    "Notify the user that they must enter a four-digit number.\n",
    "b. If a user enters a year before 1900, your code should tell \n",
    "the user that the input is invalid. If the user enters the year \n",
    "after the current year, the code should tell the user to input \n",
    "a valid year.\n",
    "The code should run until the user inputs a valid year. Your \n",
    "function should return the user's age in minutes. For example, if \n",
    "someone enters 1930 as their year of birth, your function should \n",
    "return:\n",
    "You are 48, 355, 200 minutes old"
   ]
  },
  {
   "cell_type": "code",
   "execution_count": 21,
   "id": "e4ccd3b4-ee26-4e05-93b1-fc34d0febcd9",
   "metadata": {},
   "outputs": [],
   "source": [
    "from datetime import datetime, date\n",
    "def age_in_minutes():\n",
    "    try:\n",
    "        year_birth = input(\"Enter you birth year\")\n",
    "        current_year = date.today().year\n",
    "        if len(year_birth) != 4:\n",
    "            print(\"invalid output, user must enter four digit number\")\n",
    "            return age_in_minutes()\n",
    "        if int(year_birth) < 1900:\n",
    "            print(\"input is invalid\")\n",
    "            return age_in_minutes()\n",
    "        if int(year_birth) >= 1900 and int(year_birth) <= current_year:\n",
    "            print(\"input is valid\")\n",
    "            count = 0\n",
    "            for year in range(int(year_birth), current_year + 1):\n",
    "            # Check if the year is a leap year\n",
    "                if (year % 4 == 0 and year % 100 != 0) or (year % 400 == 0):\n",
    "                    count += 1\n",
    "            total_years = current_year - int(year_birth)\n",
    "            nor_years = total_years - count\n",
    "            nor_years_mins = nor_years * 365 * 24 * 60\n",
    "            leap_years_mins = count * 366 * 24 * 60\n",
    "            total_mins = nor_years_mins + leap_years_mins\n",
    "        if int(year_birth) > current_year:\n",
    "            print(\"year must be less then current_year\")\n",
    "            return age_in_minutes()\n",
    "        return print(f'{total_mins:,}')\n",
    "    except ValueError:\n",
    "        print(\"only integers and not -ve\")\n",
    "        return age_in_minutes()"
   ]
  },
  {
   "cell_type": "code",
   "execution_count": 22,
   "id": "fa12df57-cf71-424f-b87f-60d89a6c40aa",
   "metadata": {},
   "outputs": [
    {
     "name": "stdin",
     "output_type": "stream",
     "text": [
      "Enter you birth year sadg\n"
     ]
    },
    {
     "name": "stdout",
     "output_type": "stream",
     "text": [
      "only integers and not -ve\n"
     ]
    },
    {
     "name": "stdin",
     "output_type": "stream",
     "text": [
      "Enter you birth year 123\n"
     ]
    },
    {
     "name": "stdout",
     "output_type": "stream",
     "text": [
      "invalid output, user must enter four digit number\n"
     ]
    },
    {
     "name": "stdin",
     "output_type": "stream",
     "text": [
      "Enter you birth year 2334\n"
     ]
    },
    {
     "name": "stdout",
     "output_type": "stream",
     "text": [
      "year must be less then current_year\n"
     ]
    },
    {
     "name": "stdin",
     "output_type": "stream",
     "text": [
      "Enter you birth year -2345\n"
     ]
    },
    {
     "name": "stdout",
     "output_type": "stream",
     "text": [
      "invalid output, user must enter four digit number\n"
     ]
    },
    {
     "name": "stdin",
     "output_type": "stream",
     "text": [
      "Enter you birth year -234\n"
     ]
    },
    {
     "name": "stdout",
     "output_type": "stream",
     "text": [
      "input is invalid\n"
     ]
    },
    {
     "name": "stdin",
     "output_type": "stream",
     "text": [
      "Enter you birth year 19-0\n"
     ]
    },
    {
     "name": "stdout",
     "output_type": "stream",
     "text": [
      "only integers and not -ve\n"
     ]
    },
    {
     "name": "stdin",
     "output_type": "stream",
     "text": [
      "Enter you birth year 1678\n"
     ]
    },
    {
     "name": "stdout",
     "output_type": "stream",
     "text": [
      "input is invalid\n"
     ]
    },
    {
     "name": "stdin",
     "output_type": "stream",
     "text": [
      "Enter you birth year 1234\n"
     ]
    },
    {
     "name": "stdout",
     "output_type": "stream",
     "text": [
      "input is invalid\n"
     ]
    },
    {
     "name": "stdin",
     "output_type": "stream",
     "text": [
      "Enter you birth year 111\n"
     ]
    },
    {
     "name": "stdout",
     "output_type": "stream",
     "text": [
      "invalid output, user must enter four digit number\n"
     ]
    },
    {
     "name": "stdin",
     "output_type": "stream",
     "text": [
      "Enter you birth year 1777\n"
     ]
    },
    {
     "name": "stdout",
     "output_type": "stream",
     "text": [
      "input is invalid\n"
     ]
    },
    {
     "name": "stdin",
     "output_type": "stream",
     "text": [
      "Enter you birth year 1999\n"
     ]
    },
    {
     "name": "stdout",
     "output_type": "stream",
     "text": [
      "input is valid\n",
      "13,150,080\n"
     ]
    }
   ],
   "source": [
    "age_in_minutes()"
   ]
  },
  {
   "cell_type": "code",
   "execution_count": 13,
   "id": "5e66cec8-a0b3-48b2-acdc-49284e191747",
   "metadata": {},
   "outputs": [
    {
     "name": "stdin",
     "output_type": "stream",
     "text": [
      "Enter your year of birth:  1930\n"
     ]
    },
    {
     "name": "stdout",
     "output_type": "stream",
     "text": [
      "You are 49,406,400 minutes old.\n"
     ]
    }
   ],
   "source": [
    "from datetime import datetime\n",
    "\n",
    "def your_age(): \n",
    "    while True:\n",
    "        birth_year = input('Enter your year of birth: ') \n",
    "        if len(birth_year) != 4: \n",
    "            print('Please enter a four digits year') \n",
    "        elif int(birth_year) < 1900 or int(birth_year) > 2022:\n",
    "            print('Please enter a valid year') \n",
    "        else:\n",
    "            # This returns the current year \n",
    "            now1 = int(datetime.now().strftime(\"%Y\")) \n",
    "            age = (now1- int(birth_year)) * 525600 \n",
    "            return f'You are {age:,} minutes old.'\n",
    "\n",
    "print(your_age())"
   ]
  },
  {
   "cell_type": "code",
   "execution_count": null,
   "id": "c394ac76-1a5c-42ec-942f-700e599cef91",
   "metadata": {},
   "outputs": [],
   "source": []
  }
 ],
 "metadata": {
  "kernelspec": {
   "display_name": "Python 3 (ipykernel)",
   "language": "python",
   "name": "python3"
  },
  "language_info": {
   "codemirror_mode": {
    "name": "ipython",
    "version": 3
   },
   "file_extension": ".py",
   "mimetype": "text/x-python",
   "name": "python",
   "nbconvert_exporter": "python",
   "pygments_lexer": "ipython3",
   "version": "3.11.8"
  }
 },
 "nbformat": 4,
 "nbformat_minor": 5
}
