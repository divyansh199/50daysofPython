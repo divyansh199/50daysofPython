{
 "cells": [
  {
   "cell_type": "markdown",
   "id": "30b0d0fa",
   "metadata": {},
   "source": [
    "# day 3"
   ]
  },
  {
   "cell_type": "raw",
   "id": "931ef1fb",
   "metadata": {},
   "source": [
    "Register Check\n",
    "Write a function called register_check that checks how many \n",
    "students are in school. The function takes a dictionary as an \n",
    "argument. If the student is in school, the dictionary says \"yes.\" If \n",
    "the student is not in school, the dictionary says \"no.\" Your function \n",
    "should return the number of students in school. Using the \n",
    "dictionary below, your function should return 3."
   ]
  },
  {
   "cell_type": "code",
   "execution_count": 4,
   "id": "26badb0e",
   "metadata": {},
   "outputs": [],
   "source": [
    "register = {\"Michael\": \"yes\" , \"Jhon\": \"no\", \"Peter\": \"yes\", \"Mary\": \"yes\"}"
   ]
  },
  {
   "cell_type": "code",
   "execution_count": 20,
   "id": "0ba7247b",
   "metadata": {},
   "outputs": [],
   "source": [
    "def register_check(dic):\n",
    "    x = len(list(filter(lambda x : x == \"yes\" , dic.values())))\n",
    "    return x"
   ]
  },
  {
   "cell_type": "code",
   "execution_count": 21,
   "id": "219ce6b1",
   "metadata": {},
   "outputs": [
    {
     "data": {
      "text/plain": [
       "3"
      ]
     },
     "execution_count": 21,
     "metadata": {},
     "output_type": "execute_result"
    }
   ],
   "source": [
    "register_check(register)"
   ]
  },
  {
   "cell_type": "raw",
   "id": "e380b878",
   "metadata": {},
   "source": [
    "Extra Challenge: Lowercase Names\n",
    " \n",
    "names = [\"kerry\", \"dickson\", \"John\", \"Mary\", \n",
    " \"carol\", \"Rose\", \"adam\"]\n",
    "You are given a list of names above. This list is made up of names \n",
    "win lowercase and uppercase letters. Your task is to write a code \n",
    "that will return a tuple of all the names in the list that only have\n",
    "lowercase letters. Your tuple should have names sorted \n",
    "alphabetically in descending order. Using the list above, your code \n",
    "should return:\n",
    "('kerry', 'dickson', 'carol', 'adam')"
   ]
  },
  {
   "cell_type": "code",
   "execution_count": 23,
   "id": "536558b3",
   "metadata": {},
   "outputs": [],
   "source": [
    "def lower_case(nam):\n",
    "    j = tuple(filter(lambda x : x.islower() , names))\n",
    "    return j          "
   ]
  },
  {
   "cell_type": "code",
   "execution_count": 24,
   "id": "089311af",
   "metadata": {},
   "outputs": [
    {
     "ename": "NameError",
     "evalue": "name 'names' is not defined",
     "output_type": "error",
     "traceback": [
      "\u001b[1;31m---------------------------------------------------------------------------\u001b[0m",
      "\u001b[1;31mNameError\u001b[0m                                 Traceback (most recent call last)",
      "Cell \u001b[1;32mIn[24], line 1\u001b[0m\n\u001b[1;32m----> 1\u001b[0m lower_case([\u001b[38;5;124m\"\u001b[39m\u001b[38;5;124mkerry\u001b[39m\u001b[38;5;124m\"\u001b[39m, \u001b[38;5;124m\"\u001b[39m\u001b[38;5;124mdickson\u001b[39m\u001b[38;5;124m\"\u001b[39m, \u001b[38;5;124m\"\u001b[39m\u001b[38;5;124mJohn\u001b[39m\u001b[38;5;124m\"\u001b[39m, \u001b[38;5;124m\"\u001b[39m\u001b[38;5;124mMary\u001b[39m\u001b[38;5;124m\"\u001b[39m, \n\u001b[0;32m      2\u001b[0m  \u001b[38;5;124m\"\u001b[39m\u001b[38;5;124mcarol\u001b[39m\u001b[38;5;124m\"\u001b[39m, \u001b[38;5;124m\"\u001b[39m\u001b[38;5;124mRose\u001b[39m\u001b[38;5;124m\"\u001b[39m, \u001b[38;5;124m\"\u001b[39m\u001b[38;5;124madam\u001b[39m\u001b[38;5;124m\"\u001b[39m])\n",
      "Cell \u001b[1;32mIn[23], line 2\u001b[0m, in \u001b[0;36mlower_case\u001b[1;34m(nam)\u001b[0m\n\u001b[0;32m      1\u001b[0m \u001b[38;5;28;01mdef\u001b[39;00m \u001b[38;5;21mlower_case\u001b[39m(nam):\n\u001b[1;32m----> 2\u001b[0m     j \u001b[38;5;241m=\u001b[39m \u001b[38;5;28mtuple\u001b[39m(\u001b[38;5;28mfilter\u001b[39m(\u001b[38;5;28;01mlambda\u001b[39;00m x : x\u001b[38;5;241m.\u001b[39mislower() , names))\n\u001b[0;32m      3\u001b[0m     \u001b[38;5;28;01mreturn\u001b[39;00m j\n",
      "\u001b[1;31mNameError\u001b[0m: name 'names' is not defined"
     ]
    }
   ],
   "source": [
    "lower_case([\"kerry\", \"dickson\", \"John\", \"Mary\", \n",
    " \"carol\", \"Rose\", \"adam\"])"
   ]
  },
  {
   "cell_type": "code",
   "execution_count": null,
   "id": "c0806321",
   "metadata": {},
   "outputs": [],
   "source": []
  }
 ],
 "metadata": {
  "kernelspec": {
   "display_name": "Python 3 (ipykernel)",
   "language": "python",
   "name": "python3"
  },
  "language_info": {
   "codemirror_mode": {
    "name": "ipython",
    "version": 3
   },
   "file_extension": ".py",
   "mimetype": "text/x-python",
   "name": "python",
   "nbconvert_exporter": "python",
   "pygments_lexer": "ipython3",
   "version": "3.11.5"
  }
 },
 "nbformat": 4,
 "nbformat_minor": 5
}
