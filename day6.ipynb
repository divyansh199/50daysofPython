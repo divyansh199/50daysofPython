{
 "cells": [
  {
   "cell_type": "markdown",
   "id": "2f4d8489-dee8-4f3d-b8a3-d18724f36baa",
   "metadata": {},
   "source": [
    "# day6"
   ]
  },
  {
   "cell_type": "markdown",
   "id": "cd023a29-4cc1-4533-bbd7-e0bf8f83bd39",
   "metadata": {},
   "source": [
    "#### User Name Generator\n",
    "Write a function called user_name that generates a username from the user’s email. The code should ask the user to input an email, and the code should return everything before the @ sign as their user name. For example, if someone enters ben@gmail.com, the code should return ben as their user name."
   ]
  },
  {
   "cell_type": "code",
   "execution_count": 9,
   "id": "22c22a3b-0e48-4a96-8095-2279ef9de9c0",
   "metadata": {},
   "outputs": [],
   "source": [
    "def user_name():\n",
    "    email = input(\"please fill email\")\n",
    "    j = email.split(\"@\")\n",
    "    return j[0]"
   ]
  },
  {
   "cell_type": "code",
   "execution_count": 12,
   "id": "6a6bdb21-0337-4231-a914-7cda0d0e4fb2",
   "metadata": {},
   "outputs": [
    {
     "name": "stdin",
     "output_type": "stream",
     "text": [
      "please fill email papu@pandu.com\n"
     ]
    },
    {
     "data": {
      "text/plain": [
       "'papu'"
      ]
     },
     "execution_count": 12,
     "metadata": {},
     "output_type": "execute_result"
    }
   ],
   "source": [
    "user_name()"
   ]
  },
  {
   "cell_type": "markdown",
   "id": "e06768f1-f694-4ad6-8200-ca7da6d0974f",
   "metadata": {},
   "source": [
    "#### Extra Challenge: Zero Both Ends\n",
    "Write a function called zeroed code that takes a list of numbers as an argument. The code should zero (0) the first \n",
    "and last number in the list. For example, if the input is [2, 5, 7, 8, 9], your code should return [0, 5, 7, 8, 0].\n"
   ]
  },
  {
   "cell_type": "code",
   "execution_count": 51,
   "id": "b4d818f9-a95f-4357-9ee1-f228f3b1c2ba",
   "metadata": {},
   "outputs": [],
   "source": [
    "def zeroed_code(li):\n",
    "    k = [0 if li.index(x) == 0 or li.index(x) == len(li)-1 else x for x in li]\n",
    "    return k"
   ]
  },
  {
   "cell_type": "code",
   "execution_count": 52,
   "id": "58b948a5-2d7e-4e97-a4a3-bd9a279845b5",
   "metadata": {},
   "outputs": [
    {
     "data": {
      "text/plain": [
       "[0, 5, 7, 8, 0]"
      ]
     },
     "execution_count": 52,
     "metadata": {},
     "output_type": "execute_result"
    }
   ],
   "source": [
    "li = [2, 5, 7, 8, 9]\n",
    "zeroed_code(li)"
   ]
  },
  {
   "cell_type": "code",
   "execution_count": 39,
   "id": "7601bb15-eac3-4ef8-baaf-2efe5369b04b",
   "metadata": {},
   "outputs": [],
   "source": [
    "def zeroed_code(li):\n",
    "    k = map(lambda x: 0 if li.index(x) == 0 or li.index(x) == len(li)-1 else x,li)\n",
    "    return list(k)"
   ]
  },
  {
   "cell_type": "code",
   "execution_count": 40,
   "id": "e0be851a-630d-4aa7-9ac9-e4532307ec03",
   "metadata": {},
   "outputs": [
    {
     "data": {
      "text/plain": [
       "[0, 5, 7, 8, 0]"
      ]
     },
     "execution_count": 40,
     "metadata": {},
     "output_type": "execute_result"
    }
   ],
   "source": [
    "li = [2, 5, 7, 8, 9]\n",
    "zeroed_code(li)"
   ]
  },
  {
   "cell_type": "code",
   "execution_count": null,
   "id": "a459002c-6682-4d15-a9e8-ad148cdd917a",
   "metadata": {},
   "outputs": [],
   "source": []
  }
 ],
 "metadata": {
  "kernelspec": {
   "display_name": "Python 3 (ipykernel)",
   "language": "python",
   "name": "python3"
  },
  "language_info": {
   "codemirror_mode": {
    "name": "ipython",
    "version": 3
   },
   "file_extension": ".py",
   "mimetype": "text/x-python",
   "name": "python",
   "nbconvert_exporter": "python",
   "pygments_lexer": "ipython3",
   "version": "3.11.8"
  }
 },
 "nbformat": 4,
 "nbformat_minor": 5
}
