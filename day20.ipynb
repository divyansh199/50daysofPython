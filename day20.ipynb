{
 "cells": [
  {
   "cell_type": "markdown",
   "id": "f4393074-748d-404a-b24f-42542ebaa053",
   "metadata": {},
   "source": [
    "# day20\n",
    "#### Write a function called capitalize. \n",
    "This function takes a string as \n",
    "an argument and capitalizes the first letter of each word. For \n",
    "example, \"i like learning\" becomes \"I Like Learning.\""
   ]
  },
  {
   "cell_type": "code",
   "execution_count": 22,
   "id": "a0a6b1ff-b2b1-469a-8b10-bd00cf581f56",
   "metadata": {},
   "outputs": [],
   "source": [
    "from functools import reduce\n",
    "def cap_l(a: str)->str:\n",
    "    a = a.split(\" \")\n",
    "    a = [x[0].upper()+x[1::] for x in a]\n",
    "    return reduce(lambda x,y: x+\" \"+y,a)"
   ]
  },
  {
   "cell_type": "code",
   "execution_count": 23,
   "id": "53ffc184-c858-4c4b-ac9f-e75c2c0a187e",
   "metadata": {},
   "outputs": [
    {
     "data": {
      "text/plain": [
       "'I Like Learning'"
      ]
     },
     "execution_count": 23,
     "metadata": {},
     "output_type": "execute_result"
    }
   ],
   "source": [
    "cap_l(\"i like learning\")"
   ]
  },
  {
   "cell_type": "markdown",
   "id": "30173ffb-cb08-4699-946b-2229eb3fd208",
   "metadata": {},
   "source": [
    "#### Extra Challenge: Reversed List\n",
    "str1 = 'leArning is hard, bUt if You appLy youRself ' \\\n",
    " 'you can achieVe success'\n",
    "\n",
    " \n",
    "You are given a string of words. Some of the words in the string\n",
    "contain uppercase letters. Write a code that will return all the \n",
    "words that have an uppercase letter. Your code should return a list \n",
    "of the words. Each word in the list should be reversed. Here is how \n",
    "your output should look:\n",
    "['gninrAel', 'tUb', 'uoY', 'yLppa', 'flesRuoy', 'eVeihca']"
   ]
  },
  {
   "cell_type": "code",
   "execution_count": 39,
   "id": "aca42c9e-4a12-450f-bb09-d032acbfb28e",
   "metadata": {},
   "outputs": [],
   "source": [
    "def rev_li_u(str1: str)->list:\n",
    "    a = str1.split(\" \")\n",
    "    a = [x[::-1] for x in a for k in x if k.isupper()]\n",
    "    return a"
   ]
  },
  {
   "cell_type": "code",
   "execution_count": 40,
   "id": "6c50555e-9d58-4e3d-9abd-d59bdfb49bae",
   "metadata": {},
   "outputs": [
    {
     "data": {
      "text/plain": [
       "['gninrAel', 'tUb', 'uoY', 'yLppa', 'flesRuoy', 'eVeihca']"
      ]
     },
     "execution_count": 40,
     "metadata": {},
     "output_type": "execute_result"
    }
   ],
   "source": [
    "rev_li_u( 'leArning is hard, bUt if You appLy youRself ' \\\n",
    "'you can achieVe success')"
   ]
  },
  {
   "cell_type": "code",
   "execution_count": null,
   "id": "f269271c-16b9-45c2-9d80-12b067f21d0c",
   "metadata": {},
   "outputs": [],
   "source": []
  }
 ],
 "metadata": {
  "kernelspec": {
   "display_name": "Python 3 (ipykernel)",
   "language": "python",
   "name": "python3"
  },
  "language_info": {
   "codemirror_mode": {
    "name": "ipython",
    "version": 3
   },
   "file_extension": ".py",
   "mimetype": "text/x-python",
   "name": "python",
   "nbconvert_exporter": "python",
   "pygments_lexer": "ipython3",
   "version": "3.11.8"
  }
 },
 "nbformat": 4,
 "nbformat_minor": 5
}
