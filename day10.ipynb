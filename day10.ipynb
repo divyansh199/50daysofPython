{
 "cells": [
  {
   "cell_type": "markdown",
   "id": "db8ccdcb-340b-4fcd-98a0-ec4c1ffc1870",
   "metadata": {},
   "source": [
    "# day 10\n",
    "#### Hide my Password\n",
    "Write a function called hide_password that takes no \n",
    "parameters. The function takes an input (a password) from a user \n",
    "and returns a hidden password. For example, if the user enters \n",
    "\"hello\" as a password, the function should return \"****\" as a \n",
    "password and tell the user that the password is 4 characters\n",
    "long."
   ]
  },
  {
   "cell_type": "code",
   "execution_count": 12,
   "id": "d26ddd91-6506-45d2-bd02-cd2460f62e64",
   "metadata": {},
   "outputs": [],
   "source": [
    "def hide_password():\n",
    "    passwd = input(\"enter password please:\")\n",
    "    l = len(passwd)\n",
    "    j = l * \"*\"\n",
    "    print(f\" \\\"{j}\\\" is {l} character long.\") "
   ]
  },
  {
   "cell_type": "code",
   "execution_count": null,
   "id": "9ad88f38-aba9-4a39-8ad6-530b027bbe40",
   "metadata": {},
   "outputs": [],
   "source": []
  },
  {
   "cell_type": "code",
   "execution_count": 13,
   "id": "fec25c61-e4a5-4695-aa95-3ab07c2545d5",
   "metadata": {},
   "outputs": [
    {
     "name": "stdin",
     "output_type": "stream",
     "text": [
      "enter password please: dgsdfg\n"
     ]
    },
    {
     "name": "stdout",
     "output_type": "stream",
     "text": [
      " \"******\" is 6 character long.\n"
     ]
    }
   ],
   "source": [
    "hide_password()"
   ]
  },
  {
   "cell_type": "markdown",
   "id": "65cb70bd-8985-4798-a76a-2da24c121cff",
   "metadata": {},
   "source": [
    "#### Extra Challenge: A Thousand Separator\n",
    "Your new company has a list of figures saved in a database. The \n",
    "issue is that these numbers have no separator. The numbers are \n",
    "saved in a list in the following format: \n",
    "[1000000, 2356989, 2354672, 9878098].\n",
    "You have been asked to write a code that will convert each of the \n",
    "numbers in the list into a string. Your code should then add a \n",
    "comma to each number as a thousand separator for \n",
    "readability. When you run your code on the above list, your output \n",
    "should be:\n",
    "[ '1,000,000', '2,356,989', '2,354,672', '9,878,098’]\n",
    "Write a function called convert_numbers that will take \n",
    "\n",
    "one argument, the list of numbers above"
   ]
  },
  {
   "cell_type": "code",
   "execution_count": 10,
   "id": "bdb7d181-8b54-46b3-8e67-c43c9e771ca8",
   "metadata": {},
   "outputs": [],
   "source": [
    "def convert_numbers(li):\n",
    "    li = [str(f\"{x:,}\")  for x in li if x > 1000]\n",
    "    return li"
   ]
  },
  {
   "cell_type": "code",
   "execution_count": 11,
   "id": "4aa7cd79-f1f9-4359-b2bf-9152c37cfe3d",
   "metadata": {},
   "outputs": [
    {
     "data": {
      "text/plain": [
       "['1,000,000', '2,356,989', '2,354,672', '9,878,098']"
      ]
     },
     "execution_count": 11,
     "metadata": {},
     "output_type": "execute_result"
    }
   ],
   "source": [
    "convert_numbers([1000000, 2356989, 2354672, 9878098])"
   ]
  },
  {
   "cell_type": "code",
   "execution_count": null,
   "id": "1b1593cb-9a6f-4e9e-8c19-1086eab01533",
   "metadata": {},
   "outputs": [],
   "source": []
  }
 ],
 "metadata": {
  "kernelspec": {
   "display_name": "Python 3 (ipykernel)",
   "language": "python",
   "name": "python3"
  },
  "language_info": {
   "codemirror_mode": {
    "name": "ipython",
    "version": 3
   },
   "file_extension": ".py",
   "mimetype": "text/x-python",
   "name": "python",
   "nbconvert_exporter": "python",
   "pygments_lexer": "ipython3",
   "version": "3.11.8"
  }
 },
 "nbformat": 4,
 "nbformat_minor": 5
}
