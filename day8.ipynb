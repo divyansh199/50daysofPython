{
 "cells": [
  {
   "cell_type": "markdown",
   "id": "80ae5e1e-2514-47ea-b910-5f75d8644333",
   "metadata": {},
   "source": [
    "# day-8\n",
    "#### Odd and Even\n",
    "Write a function called odd_even that has one parameter and \n",
    "takes a list of numbers as an argument. The function returns the \n",
    "difference between the largest even number in the list and the \n",
    "smallest odd number in the list. For example, if you pass [1, 2, 4,\n",
    "6] as an argument, the function should return 6 - 1= 5."
   ]
  },
  {
   "cell_type": "code",
   "execution_count": 50,
   "id": "c1108f40-8dc9-4a80-8a8e-2448a0dfaba1",
   "metadata": {},
   "outputs": [],
   "source": [
    "def odd_even(li):\n",
    "    k = filter(lambda x: x % 2 != 0, li)\n",
    "    k = list(k)\n",
    "    k = sorted(k)\n",
    "    m = filter(lambda x: x % 2 == 0, li)\n",
    "    m = list(m)\n",
    "    m = sorted(m)\n",
    "    result = m[-1] - k[0]\n",
    "    return result"
   ]
  },
  {
   "cell_type": "code",
   "execution_count": 51,
   "id": "909bd7d4-5915-48e9-8990-b47ae8749f28",
   "metadata": {},
   "outputs": [
    {
     "data": {
      "text/plain": [
       "5"
      ]
     },
     "execution_count": 51,
     "metadata": {},
     "output_type": "execute_result"
    }
   ],
   "source": [
    "odd_even([1,2,4,6])"
   ]
  },
  {
   "cell_type": "markdown",
   "id": "8ffd79c3-365e-4702-9ac3-997f144ca4d4",
   "metadata": {},
   "source": [
    "#### Extra Challenge: List of Prime Numbers\n",
    "Write a function called prime_numbers. This function asks the\n",
    "user to enter a number (an integer) as an argument and returns a \n",
    "list of all the prime numbers within its range. For example, if the \n",
    "user enters 10, your code should return [2, 3, 5, 7] as prime \n",
    "numbers"
   ]
  },
  {
   "cell_type": "code",
   "execution_count": 56,
   "id": "d4401eac-b079-442a-9d00-44f08afe9bab",
   "metadata": {},
   "outputs": [],
   "source": [
    "def prime_number(num):\n",
    "    k = [i for i in range(2,num) if all(i % j != 0 for j in range(2,i)) ]\n",
    "    return k"
   ]
  },
  {
   "cell_type": "code",
   "execution_count": 58,
   "id": "37a1addb-731d-4305-9b4c-6c30e04a7fb1",
   "metadata": {},
   "outputs": [
    {
     "data": {
      "text/plain": [
       "[2, 3, 5]"
      ]
     },
     "execution_count": 58,
     "metadata": {},
     "output_type": "execute_result"
    }
   ],
   "source": [
    "prime_number(6)"
   ]
  },
  {
   "cell_type": "code",
   "execution_count": null,
   "id": "f4866d7a-ed8f-4e4a-8a8c-c5789560dd95",
   "metadata": {},
   "outputs": [],
   "source": []
  }
 ],
 "metadata": {
  "kernelspec": {
   "display_name": "Python 3 (ipykernel)",
   "language": "python",
   "name": "python3"
  },
  "language_info": {
   "codemirror_mode": {
    "name": "ipython",
    "version": 3
   },
   "file_extension": ".py",
   "mimetype": "text/x-python",
   "name": "python",
   "nbconvert_exporter": "python",
   "pygments_lexer": "ipython3",
   "version": "3.11.8"
  }
 },
 "nbformat": 4,
 "nbformat_minor": 5
}
