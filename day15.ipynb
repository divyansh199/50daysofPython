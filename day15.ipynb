{
 "cells": [
  {
   "cell_type": "markdown",
   "id": "3ba2b070-2f13-4a5a-936a-8e7919cc6f58",
   "metadata": {},
   "source": [
    "# day15\n",
    "#### Same in Reverse \n",
    "Write a function called same_in_reverse that takes a string and\n",
    "checks if the string reads the same in reverse. If it is the same, the \n",
    "code should return True if not, it should return False. For \n",
    "example, \"dad\" should return True, because it reads the same in \n",
    "reverse."
   ]
  },
  {
   "cell_type": "code",
   "execution_count": 39,
   "id": "83f53ba7-a13d-4bf7-9674-bb8454deb5cd",
   "metadata": {},
   "outputs": [],
   "source": [
    "def same_in_reverse(a: str) -> str:\n",
    "    return str(a == a[::-1])"
   ]
  },
  {
   "cell_type": "code",
   "execution_count": 40,
   "id": "6d03277a-2588-4b15-827e-d24dd774d4d4",
   "metadata": {},
   "outputs": [
    {
     "data": {
      "text/plain": [
       "'True'"
      ]
     },
     "execution_count": 40,
     "metadata": {},
     "output_type": "execute_result"
    }
   ],
   "source": [
    "same_in_reverse(\"madam\")"
   ]
  },
  {
   "cell_type": "markdown",
   "id": "0df80fac-a17e-4833-a4dd-c92c1c5051ba",
   "metadata": {},
   "source": [
    "# Extra Challenge: What’s My Age?\n",
    "Write a function called your_age. This function asks a student to \n",
    "enter their name, and then it returns their age. For example, if a \n",
    "user enters Peter as their name, your function should return, \"Hi, \n",
    "Peter, you are 27 years old.\" This function reads data from the \n",
    "database (dictionary below). If the name is not in the dictionary, \n",
    "your code should tell the user that their name is not in the \n",
    "dictionary and ask them for their age. Your code should then add \n",
    "the name and age to the dictionary named \"names_age\" below. \n",
    "Once added, your code should return to the user, \"Hi, (name), \n",
    "you are (age) years old.\" Remember to convert the input from\n",
    "the user to lowercase letters.\n",
    "names_age = {\"jane\": 23, \"kerry\": 45, \"tim\": 34, \"peter\": 27}"
   ]
  },
  {
   "cell_type": "code",
   "execution_count": 68,
   "id": "0596bb5e-df47-4a73-a64a-53a22f5c9a37",
   "metadata": {},
   "outputs": [],
   "source": [
    "names_age = {\"jane\": 23, \"kerry\": 45, \"tim\": 34, \"peter\": 27}"
   ]
  },
  {
   "cell_type": "code",
   "execution_count": 82,
   "id": "4eca7c9c-58a7-40ff-bf2a-eb156b9c146c",
   "metadata": {},
   "outputs": [],
   "source": [
    "def your_age(dict: names_age) -> str:\n",
    "    name = input(\"enter your name\").lower()\n",
    "    li = list(names_age.keys())\n",
    "    if name in li :\n",
    "        return print(f' \\\"Hi,{name},your age is {names_age[name]} year old\\\"')\n",
    "    else:\n",
    "        age = int(input(\"enter your age please:\"))\n",
    "        names_age.update({name: age})\n",
    "        return print(f' \\\"Hi,{name},your age is {age} year old\\\"')"
   ]
  },
  {
   "cell_type": "code",
   "execution_count": 83,
   "id": "9cac816b-4316-48b5-aa06-a67dae8c8fc4",
   "metadata": {},
   "outputs": [
    {
     "name": "stdin",
     "output_type": "stream",
     "text": [
      "enter your name kaka\n",
      "enter your age please: 55\n"
     ]
    },
    {
     "name": "stdout",
     "output_type": "stream",
     "text": [
      " \"Hi,kaka,your age is 55 year old\"\n"
     ]
    }
   ],
   "source": [
    "your_age(names_age)"
   ]
  },
  {
   "cell_type": "code",
   "execution_count": null,
   "id": "23719ca5-8dd1-4b57-845f-c331bdf5f193",
   "metadata": {},
   "outputs": [],
   "source": []
  }
 ],
 "metadata": {
  "kernelspec": {
   "display_name": "Python 3 (ipykernel)",
   "language": "python",
   "name": "python3"
  },
  "language_info": {
   "codemirror_mode": {
    "name": "ipython",
    "version": 3
   },
   "file_extension": ".py",
   "mimetype": "text/x-python",
   "name": "python",
   "nbconvert_exporter": "python",
   "pygments_lexer": "ipython3",
   "version": "3.11.8"
  }
 },
 "nbformat": 4,
 "nbformat_minor": 5
}
