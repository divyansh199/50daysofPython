{
 "cells": [
  {
   "cell_type": "markdown",
   "id": "523e3b90",
   "metadata": {},
   "source": [
    "# day 3"
   ]
  },
  {
   "cell_type": "raw",
   "id": "cbcc1868",
   "metadata": {},
   "source": [
    "Register Check\n",
    "Write a function called register_check that checks how many \n",
    "students are in school. The function takes a dictionary as an \n",
    "argument. If the student is in school, the dictionary says \"yes.\" If \n",
    "the student is not in school, the dictionary says \"no.\" Your function \n",
    "should return the number of students in school. Using the \n",
    "dictionary below, your function should return 3."
   ]
  },
  {
   "cell_type": "code",
   "execution_count": 4,
   "id": "bb5dbe74",
   "metadata": {},
   "outputs": [],
   "source": [
    "register = {\"Michael\": \"yes\" , \"Jhon\": \"no\", \"Peter\": \"yes\", \"Mary\": \"yes\"}"
   ]
  },
  {
   "cell_type": "code",
   "execution_count": 20,
   "id": "10a9ebf6",
   "metadata": {},
   "outputs": [],
   "source": [
    "def register_check(dic):\n",
    "    x = len(list(filter(lambda x : x == \"yes\" , dic.values())))\n",
    "    return x"
   ]
  },
  {
   "cell_type": "code",
   "execution_count": 21,
   "id": "3ea1e6bb",
   "metadata": {},
   "outputs": [
    {
     "data": {
      "text/plain": [
       "3"
      ]
     },
     "execution_count": 21,
     "metadata": {},
     "output_type": "execute_result"
    }
   ],
   "source": [
    "register_check(register)"
   ]
  },
  {
   "cell_type": "raw",
   "id": "5f8d8065",
   "metadata": {},
   "source": [
    "Extra Challenge: Lowercase Names\n",
    " \n",
    "names = [\"kerry\", \"dickson\", \"John\", \"Mary\", \n",
    " \"carol\", \"Rose\", \"adam\"]\n",
    "You are given a list of names above. This list is made up of names \n",
    "win lowercase and uppercase letters. Your task is to write a code \n",
    "that will return a tuple of all the names in the list that only have\n",
    "lowercase letters. Your tuple should have names sorted \n",
    "alphabetically in descending order. Using the list above, your code \n",
    "should return:\n",
    "('kerry', 'dickson', 'carol', 'adam')"
   ]
  },
  {
   "cell_type": "code",
   "execution_count": 25,
   "id": "1ce85657",
   "metadata": {},
   "outputs": [],
   "source": [
    "def lower_case(nam):\n",
    "    j = tuple(filter(lambda x : x.islower() , nam))\n",
    "    return j          "
   ]
  },
  {
   "cell_type": "code",
   "execution_count": 26,
   "id": "e22cdbb8",
   "metadata": {},
   "outputs": [
    {
     "data": {
      "text/plain": [
       "('kerry', 'dickson', 'carol', 'adam')"
      ]
     },
     "execution_count": 26,
     "metadata": {},
     "output_type": "execute_result"
    }
   ],
   "source": [
    "lower_case([\"kerry\", \"dickson\", \"John\", \"Mary\", \n",
    " \"carol\", \"Rose\", \"adam\"])"
   ]
  },
  {
   "cell_type": "code",
   "execution_count": null,
   "id": "64a526b4",
   "metadata": {},
   "outputs": [],
   "source": [
    "#summary islower and comparision op"
   ]
  },
  {
   "cell_type": "code",
   "execution_count": null,
   "id": "a651c320",
   "metadata": {},
   "outputs": [],
   "source": []
  }
 ],
 "metadata": {
  "kernelspec": {
   "display_name": "Python 3 (ipykernel)",
   "language": "python",
   "name": "python3"
  },
  "language_info": {
   "codemirror_mode": {
    "name": "ipython",
    "version": 3
   },
   "file_extension": ".py",
   "mimetype": "text/x-python",
   "name": "python",
   "nbconvert_exporter": "python",
   "pygments_lexer": "ipython3",
   "version": "3.11.5"
  }
 },
 "nbformat": 4,
 "nbformat_minor": 5
}
