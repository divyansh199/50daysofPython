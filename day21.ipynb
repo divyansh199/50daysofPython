{
 "cells": [
  {
   "cell_type": "markdown",
   "id": "37b58f21-ad00-44a9-ac32-57fac9629051",
   "metadata": {},
   "source": [
    "# Day 21: \n",
    "#### List of Tuples\n",
    "Write a function called make_tuples that takes two equal lists \n",
    "and combines them into a list of tuples. Your code should check \n",
    "that the input lists are of the same length. For example, if list a is \n",
    "[1, 2, 3, 4] and list b is [5, 6, 7, 8], your function should return \n",
    "[(1, 5), (2, 6), (3, 7), (4, 8)]. If the lists are not of equal length, \n",
    "your function should raise a ValueError.\n"
   ]
  },
  {
   "cell_type": "code",
   "execution_count": 12,
   "id": "00d48f35-74a4-4efc-8f88-04c532c9aa27",
   "metadata": {},
   "outputs": [],
   "source": [
    "def make_tuple(l1,l2: list)->list:\n",
    "    if len(l1) != len(l2):\n",
    "        raise ValueError(\" lists are not of equal length\")\n",
    "    return list(zip(l1,l2))\n",
    "        \n"
   ]
  },
  {
   "cell_type": "markdown",
   "id": "902b63cc-59c3-4f3b-bdaf-12ce290123fc",
   "metadata": {},
   "source": [
    "#### Extra Challenge: Even Number or Average\n",
    "Write a function called even_or_average that asks a user to \n",
    "input five numbers. Once the user is done, the code should return \n",
    "the largest even number in the inputted numbers. If there is no \n",
    "even number in the list, the code should return the average of all \n",
    "the five numbers"
   ]
  },
  {
   "cell_type": "code",
   "execution_count": 80,
   "id": "bc1cdda1-df69-4549-bdfe-02f273d26d4c",
   "metadata": {},
   "outputs": [],
   "source": [
    "counter = 0\n",
    "li = []\n",
    "def even_or_average():\n",
    "    try:\n",
    "        global counter\n",
    "        global li\n",
    "        if counter!= 5:\n",
    "            li.append(int(input(f\"enter {counter + 1}st numbers\")))\n",
    "            counter +=1\n",
    "            return even_or_average()\n",
    "        k = [x for x in li if x%2==0]\n",
    "        if len(k) == 0:\n",
    "            return sum(li)/5\n",
    "        return max(k)\n",
    "    except:\n",
    "        print(\"can't be blank\")\n",
    "        return even_or_average()"
   ]
  },
  {
   "cell_type": "code",
   "execution_count": 81,
   "id": "66f70db5-8f44-4aa7-9a50-6ce750cb8f0f",
   "metadata": {},
   "outputs": [
    {
     "name": "stdin",
     "output_type": "stream",
     "text": [
      "enter 1st numbers \n"
     ]
    },
    {
     "name": "stdout",
     "output_type": "stream",
     "text": [
      "can't be blank\n"
     ]
    },
    {
     "name": "stdin",
     "output_type": "stream",
     "text": [
      "enter 1st numbers 1\n",
      "enter 2st numbers 2\n",
      "enter 3st numbers 3\n",
      "enter 4st numbers 4\n",
      "enter 5st numbers 5\n"
     ]
    },
    {
     "data": {
      "text/plain": [
       "4"
      ]
     },
     "execution_count": 81,
     "metadata": {},
     "output_type": "execute_result"
    }
   ],
   "source": [
    "even_or_average()"
   ]
  },
  {
   "cell_type": "code",
   "execution_count": null,
   "id": "d559e853-b263-42df-9cf0-d79106021909",
   "metadata": {},
   "outputs": [],
   "source": []
  }
 ],
 "metadata": {
  "kernelspec": {
   "display_name": "Python 3 (ipykernel)",
   "language": "python",
   "name": "python3"
  },
  "language_info": {
   "codemirror_mode": {
    "name": "ipython",
    "version": 3
   },
   "file_extension": ".py",
   "mimetype": "text/x-python",
   "name": "python",
   "nbconvert_exporter": "python",
   "pygments_lexer": "ipython3",
   "version": "3.11.8"
  }
 },
 "nbformat": 4,
 "nbformat_minor": 5
}
