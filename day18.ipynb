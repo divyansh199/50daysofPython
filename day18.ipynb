{
 "cells": [
  {
   "cell_type": "markdown",
   "id": "7ed86d99-e19a-4b6e-a54f-898e81c39288",
   "metadata": {},
   "source": [
    "# Day 18:\n",
    "#### Any Number of Arguments\n",
    "Write a function called any_number that can receive any \n",
    "number of positional arguments (integers and floats) and return \n",
    "the average of those integers. If you pass 12, 90, 12 and 34 as \n",
    "arguments, your function should return 37.0 as the average. If you \n",
    "pass 12 and 90, your function should return 51.0 as the average."
   ]
  },
  {
   "cell_type": "code",
   "execution_count": 15,
   "id": "274de83c-6670-4317-bb88-0892bb718f43",
   "metadata": {},
   "outputs": [],
   "source": [
    "def any_number(*args) -> float:\n",
    "    return float(sum(args))"
   ]
  },
  {
   "cell_type": "code",
   "execution_count": 18,
   "id": "549521ab-4208-4885-a3a9-2d231bdec614",
   "metadata": {},
   "outputs": [
    {
     "data": {
      "text/plain": [
       "17.2"
      ]
     },
     "execution_count": 18,
     "metadata": {},
     "output_type": "execute_result"
    }
   ],
   "source": [
    "any_number(1.2,2,3,5,6)"
   ]
  },
  {
   "cell_type": "markdown",
   "id": "ded09587-1cb3-4377-8998-69f9d715f13a",
   "metadata": {},
   "source": [
    "#### Extra Challenge: Add and Reverse\n",
    "Write a function called add_reverse. This function takes two\n",
    "lists as arguments, adds each corresponding number, and \n",
    "reverses the outcome. For example, if you pass [10, 12, 34] and \n",
    "[12, 56, 78], your code should return [112, 22, 68]. If the two \n",
    "lists are not of equal length, the code should return a message that \n",
    "\"the lists are not of equal length.\"\n"
   ]
  },
  {
   "cell_type": "code",
   "execution_count": 42,
   "id": "bf1de462-a32f-4ba6-a968-23168971b315",
   "metadata": {},
   "outputs": [],
   "source": [
    "def add_reverse(li1,li2):\n",
    "    if len(li1)==len(li2):\n",
    "        lit = [x for x in map(lambda x,y: x+y , li1,li2)]\n",
    "        return lit[::-1]\n",
    "    else:\n",
    "        return \"the lists are not of equal length\"\n",
    "    "
   ]
  },
  {
   "cell_type": "code",
   "execution_count": 43,
   "id": "c0d323d5-ed3c-489d-ba96-735025775389",
   "metadata": {},
   "outputs": [
    {
     "data": {
      "text/plain": [
       "[112, 68, 22]"
      ]
     },
     "execution_count": 43,
     "metadata": {},
     "output_type": "execute_result"
    }
   ],
   "source": [
    "add_reverse([10, 12, 34],[12, 56, 78])"
   ]
  },
  {
   "cell_type": "code",
   "execution_count": null,
   "id": "51514201-7c35-43eb-94f7-fd3884f28a81",
   "metadata": {},
   "outputs": [],
   "source": []
  }
 ],
 "metadata": {
  "kernelspec": {
   "display_name": "Python 3 (ipykernel)",
   "language": "python",
   "name": "python3"
  },
  "language_info": {
   "codemirror_mode": {
    "name": "ipython",
    "version": 3
   },
   "file_extension": ".py",
   "mimetype": "text/x-python",
   "name": "python",
   "nbconvert_exporter": "python",
   "pygments_lexer": "ipython3",
   "version": "3.11.8"
  }
 },
 "nbformat": 4,
 "nbformat_minor": 5
}
